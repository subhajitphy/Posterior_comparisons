{
 "cells": [
  {
   "cell_type": "code",
   "execution_count": 1,
   "id": "a7cd4d1e",
   "metadata": {},
   "outputs": [],
   "source": [
    "trim_dir='/home/subhajit/Desktop/EPTAWM/Data/DR2new/chains_42_yanjun/bin_orf/'\n",
    "full_dir='/home/subhajit/Desktop/EPTAWM/Data/DR2full/epta-gwb-search-chains_v1.3/chains_42_yanjun/bin_orf/'"
   ]
  },
  {
   "cell_type": "code",
   "execution_count": 2,
   "id": "91361943",
   "metadata": {},
   "outputs": [],
   "source": [
    "term='orfb'"
   ]
  },
  {
   "cell_type": "code",
   "execution_count": 3,
   "id": "66b2ee94",
   "metadata": {},
   "outputs": [
    {
     "name": "stderr",
     "output_type": "stream",
     "text": [
      "2023-06-09 17:18:11.262448: I tensorflow/tsl/cuda/cudart_stub.cc:28] Could not find cuda drivers on your machine, GPU will not be used.\n",
      "2023-06-09 17:18:11.291660: I tensorflow/tsl/cuda/cudart_stub.cc:28] Could not find cuda drivers on your machine, GPU will not be used.\n",
      "2023-06-09 17:18:11.292330: I tensorflow/core/platform/cpu_feature_guard.cc:182] This TensorFlow binary is optimized to use available CPU instructions in performance-critical operations.\n",
      "To enable the following instructions: AVX2 FMA, in other operations, rebuild TensorFlow with the appropriate compiler flags.\n",
      "2023-06-09 17:18:11.804905: W tensorflow/compiler/tf2tensorrt/utils/py_utils.cc:38] TF-TRT Warning: Could not find TensorRT\n"
     ]
    }
   ],
   "source": [
    "script_loc='/home/subhajit/Desktop/EPTAWM/'\n",
    "import sys, os\n",
    "from getdist import plots, MCSamples\n",
    "from getdist.gaussian_mixtures import GaussianND\n",
    "import getdist\n",
    "getdist.chains.print_load_details = False\n",
    "import scipy\n",
    "import matplotlib.pyplot as plt\n",
    "import IPython\n",
    "from IPython.display import Markdown\n",
    "import numpy as np\n",
    "import seaborn as sns\n",
    "# import the tensiometer tools that we need:\n",
    "import tensiometer\n",
    "from tensiometer import utilities\n",
    "from tensiometer import gaussian_tension\n",
    "from tensiometer import mcmc_tension\n",
    "import pandas as pd\n",
    "sys.path.append(script_loc)\n",
    "from diff_chain import  Diff_chain_shift"
   ]
  },
  {
   "cell_type": "code",
   "execution_count": 4,
   "id": "71ed150c",
   "metadata": {},
   "outputs": [
    {
     "data": {
      "text/html": [
       "<div>\n",
       "<style scoped>\n",
       "    .dataframe tbody tr th:only-of-type {\n",
       "        vertical-align: middle;\n",
       "    }\n",
       "\n",
       "    .dataframe tbody tr th {\n",
       "        vertical-align: top;\n",
       "    }\n",
       "\n",
       "    .dataframe thead th {\n",
       "        text-align: right;\n",
       "    }\n",
       "</style>\n",
       "<table border=\"1\" class=\"dataframe\">\n",
       "  <thead>\n",
       "    <tr style=\"text-align: right;\">\n",
       "      <th></th>\n",
       "      <th>0</th>\n",
       "    </tr>\n",
       "  </thead>\n",
       "  <tbody>\n",
       "    <tr>\n",
       "      <th>0</th>\n",
       "      <td>Amp_gw</td>\n",
       "    </tr>\n",
       "    <tr>\n",
       "      <th>1</th>\n",
       "      <td>gamma_gw</td>\n",
       "    </tr>\n",
       "    <tr>\n",
       "      <th>2</th>\n",
       "      <td>Amp_red_J0030</td>\n",
       "    </tr>\n",
       "    <tr>\n",
       "      <th>3</th>\n",
       "      <td>gamma_red</td>\n",
       "    </tr>\n",
       "    <tr>\n",
       "      <th>4</th>\n",
       "      <td>Amp_dm_J0613</td>\n",
       "    </tr>\n",
       "    <tr>\n",
       "      <th>...</th>\n",
       "      <td>...</td>\n",
       "    </tr>\n",
       "    <tr>\n",
       "      <th>69</th>\n",
       "      <td>corr</td>\n",
       "    </tr>\n",
       "    <tr>\n",
       "      <th>70</th>\n",
       "      <td>corr</td>\n",
       "    </tr>\n",
       "    <tr>\n",
       "      <th>71</th>\n",
       "      <td>corr</td>\n",
       "    </tr>\n",
       "    <tr>\n",
       "      <th>72</th>\n",
       "      <td>corr</td>\n",
       "    </tr>\n",
       "    <tr>\n",
       "      <th>73</th>\n",
       "      <td>corr</td>\n",
       "    </tr>\n",
       "  </tbody>\n",
       "</table>\n",
       "<p>74 rows × 1 columns</p>\n",
       "</div>"
      ],
      "text/plain": [
       "                0\n",
       "0          Amp_gw\n",
       "1        gamma_gw\n",
       "2   Amp_red_J0030\n",
       "3       gamma_red\n",
       "4    Amp_dm_J0613\n",
       "..            ...\n",
       "69           corr\n",
       "70           corr\n",
       "71           corr\n",
       "72           corr\n",
       "73           corr\n",
       "\n",
       "[74 rows x 1 columns]"
      ]
     },
     "execution_count": 4,
     "metadata": {},
     "output_type": "execute_result"
    }
   ],
   "source": [
    "par_trim=pd.read_csv(trim_dir+'CRN_binORF_flinear9_nf9_25PSR_DE440_PTMCMC_parname.txt', header = None)\n",
    "lt=len(par_trim)\n",
    "par_trim"
   ]
  },
  {
   "cell_type": "code",
   "execution_count": 5,
   "id": "d2b4d17c",
   "metadata": {},
   "outputs": [],
   "source": [
    "trim_1=np.loadtxt(trim_dir+'chain_1.txt',usecols=(0,1,-4))"
   ]
  },
  {
   "cell_type": "code",
   "execution_count": 6,
   "id": "2b1ab052",
   "metadata": {},
   "outputs": [
    {
     "data": {
      "text/html": [
       "<div>\n",
       "<style scoped>\n",
       "    .dataframe tbody tr th:only-of-type {\n",
       "        vertical-align: middle;\n",
       "    }\n",
       "\n",
       "    .dataframe tbody tr th {\n",
       "        vertical-align: top;\n",
       "    }\n",
       "\n",
       "    .dataframe thead th {\n",
       "        text-align: right;\n",
       "    }\n",
       "</style>\n",
       "<table border=\"1\" class=\"dataframe\">\n",
       "  <thead>\n",
       "    <tr style=\"text-align: right;\">\n",
       "      <th></th>\n",
       "      <th>0</th>\n",
       "    </tr>\n",
       "  </thead>\n",
       "  <tbody>\n",
       "    <tr>\n",
       "      <th>0</th>\n",
       "      <td>Amp_gw</td>\n",
       "    </tr>\n",
       "    <tr>\n",
       "      <th>1</th>\n",
       "      <td>gamma_gw</td>\n",
       "    </tr>\n",
       "    <tr>\n",
       "      <th>2</th>\n",
       "      <td>Amp_red_J0030</td>\n",
       "    </tr>\n",
       "    <tr>\n",
       "      <th>3</th>\n",
       "      <td>gamma_red</td>\n",
       "    </tr>\n",
       "    <tr>\n",
       "      <th>4</th>\n",
       "      <td>Amp_red_J0613</td>\n",
       "    </tr>\n",
       "    <tr>\n",
       "      <th>...</th>\n",
       "      <td>...</td>\n",
       "    </tr>\n",
       "    <tr>\n",
       "      <th>76</th>\n",
       "      <td>corr</td>\n",
       "    </tr>\n",
       "    <tr>\n",
       "      <th>77</th>\n",
       "      <td>corr</td>\n",
       "    </tr>\n",
       "    <tr>\n",
       "      <th>78</th>\n",
       "      <td>corr</td>\n",
       "    </tr>\n",
       "    <tr>\n",
       "      <th>79</th>\n",
       "      <td>corr</td>\n",
       "    </tr>\n",
       "    <tr>\n",
       "      <th>80</th>\n",
       "      <td>corr</td>\n",
       "    </tr>\n",
       "  </tbody>\n",
       "</table>\n",
       "<p>81 rows × 1 columns</p>\n",
       "</div>"
      ],
      "text/plain": [
       "                0\n",
       "0          Amp_gw\n",
       "1        gamma_gw\n",
       "2   Amp_red_J0030\n",
       "3       gamma_red\n",
       "4   Amp_red_J0613\n",
       "..            ...\n",
       "76           corr\n",
       "77           corr\n",
       "78           corr\n",
       "79           corr\n",
       "80           corr\n",
       "\n",
       "[81 rows x 1 columns]"
      ]
     },
     "execution_count": 6,
     "metadata": {},
     "output_type": "execute_result"
    }
   ],
   "source": [
    "par_full=pd.read_csv(full_dir+'CRN_binORF_flinear9_25PSR_DE440_PTMCMC_parname.txt', header = None)\n",
    "lf=len(par_full)\n",
    "par_full"
   ]
  },
  {
   "cell_type": "code",
   "execution_count": 7,
   "id": "5196d493",
   "metadata": {},
   "outputs": [],
   "source": [
    "full_1=np.loadtxt(full_dir+'chain_1.txt',usecols=(0,1,-4))"
   ]
  },
  {
   "cell_type": "code",
   "execution_count": 8,
   "id": "d2b0cea1",
   "metadata": {},
   "outputs": [],
   "source": [
    "trim=trim_1.T[0:2];full=full_1.T[0:2]"
   ]
  },
  {
   "cell_type": "code",
   "execution_count": 9,
   "id": "dfa86b50",
   "metadata": {},
   "outputs": [],
   "source": [
    "names_red = ['logA_R','gamma_R']\n",
    "labels_red=['\\log A_{R}','\\gamma_{R}']\n",
    "del_names=['delta_logA_R','delta_gamma_R']"
   ]
  },
  {
   "cell_type": "code",
   "execution_count": 10,
   "id": "736a987e",
   "metadata": {},
   "outputs": [],
   "source": [
    "trim_red=MCSamples(samples=np.array(trim).transpose(),loglikes=trim_1.T[-1],names=names_red,labels=labels_red,label='DR2-new')\n",
    "full_red=MCSamples(samples=np.array(full).transpose(),loglikes=full_1.T[-1],names = names_red,labels=labels_red,label='DR2-full')\n"
   ]
  },
  {
   "cell_type": "code",
   "execution_count": 11,
   "id": "13f6fc13",
   "metadata": {},
   "outputs": [
    {
     "data": {
      "image/png": "[encoded data removed]",
      "text/plain": [
       "<Figure size 400x400 with 3 Axes>"
      ]
     },
     "metadata": {},
     "output_type": "display_data"
    }
   ],
   "source": [
    "%matplotlib inline\n",
    "g = plots.get_subplot_plotter()\n",
    "g.triangle_plot([trim_red,full_red], filled=True)\n",
    "plt.savefig('trimvsfull_'+term+'.png',dpi=300)\n",
    "plt.show()"
   ]
  },
  {
   "cell_type": "code",
   "execution_count": 12,
   "id": "b3dc7038",
   "metadata": {},
   "outputs": [],
   "source": [
    "# %matplotlib inline\n",
    "# diff_chain_red, nsig_red,sigl_red,sigu_red=Diff_chain_shift(trim_red,full_red)\n",
    "\n",
    "# g = plots.get_subplot_plotter()\n",
    "# #nsig=utilities.from_confidence_to_sigma(shift_probability)\n",
    "# #getdist.plots.GetDistPlotSettings()\n",
    "# g.triangle_plot(diff_chain_red, filled=True,legend_labels = ['$\\Delta_T=$'+\n",
    "#                         str(\"{:.5f}\".format(nsig_red))],markers=[0,0,0,0])\n",
    "\n",
    "# plt.savefig('diff_trimvsfull_'+term+'.png',dpi=300)"
   ]
  },
  {
   "cell_type": "code",
   "execution_count": 13,
   "id": "49a17a86",
   "metadata": {},
   "outputs": [],
   "source": [
    "def plot_diff_chain(A1,A2,lims=None):\n",
    "    diff_chain, nsig, shift_lower, shift_upper=Diff_chain_shift(A1,A2)\n",
    "    \n",
    "    shift_probability=utilities.from_sigma_to_confidence(nsig)\n",
    "    g = plots.get_single_plotter()\n",
    "    diff_chain.updateSettings({'contours': [shift_probability,0.68, 0.95]})\n",
    "    g.settings.num_plot_contours = 3\n",
    "    g.plot_2d(diff_chain,param1=del_names[0], param2=del_names[1], solid_colors='r',filled=True,lims=lims)\n",
    "    g.add_legend([ A1.getLabel()+' vs '+A2.getLabel()+ \n",
    "                  '\\n\\n $\\Delta=$'+str(\"{:.2f}\".format(nsig))+'$\\sigma$'], colored_text=True);\n",
    "    g.add_x_marker(0)\n",
    "    g.add_y_marker(0)\n",
    "    plt.savefig('f2_orfb_tvsf.png',dpi=300)\n",
    "    \n",
    "    return diff_chain,shift_probability\n",
    "    "
   ]
  },
  {
   "cell_type": "code",
   "execution_count": 14,
   "id": "c00a7792",
   "metadata": {},
   "outputs": [
    {
     "data": {
      "text/plain": [
       "(<getdist.mcsamples.MCSamples at 0x7fa9d9228100>, 0.9063021007002334)"
      ]
     },
     "execution_count": 14,
     "metadata": {},
     "output_type": "execute_result"
    },
    {
     "data": {
      "image/png": "[encoded data removed]",
      "text/plain": [
       "<Figure size 600x450 with 1 Axes>"
      ]
     },
     "metadata": {},
     "output_type": "display_data"
    }
   ],
   "source": [
    "plot_diff_chain(trim_red,full_red,lims=[-0.5,2,-4,2])"
   ]
  },
  {
   "cell_type": "code",
   "execution_count": null,
   "id": "1aa2875f",
   "metadata": {},
   "outputs": [],
   "source": []
  }
 ],
 "metadata": {
  "kernelspec": {
   "display_name": "Python 3 (ipykernel)",
   "language": "python",
   "name": "python3"
  },
  "language_info": {
   "codemirror_mode": {
    "name": "ipython",
    "version": 3
   },
   "file_extension": ".py",
   "mimetype": "text/x-python",
   "name": "python",
   "nbconvert_exporter": "python",
   "pygments_lexer": "ipython3",
   "version": "3.9.16"
  }
 },
 "nbformat": 4,
 "nbformat_minor": 5
}
