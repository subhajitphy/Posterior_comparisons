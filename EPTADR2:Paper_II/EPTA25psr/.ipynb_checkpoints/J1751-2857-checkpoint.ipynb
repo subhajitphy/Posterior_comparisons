{
 "cells": [
  {
   "cell_type": "code",
   "execution_count": 1,
   "id": "b96f9281",
   "metadata": {},
   "outputs": [],
   "source": [
    "psrname='J1751-2857'"
   ]
  },
  {
   "cell_type": "code",
   "execution_count": 2,
   "id": "18764614",
   "metadata": {},
   "outputs": [],
   "source": [
    "script_dir='/media/root1/3PAR/sdandapat/WORK/work_dir2'\n",
    "work_dir='/media/root1/3PAR/sdandapat/'"
   ]
  },
  {
   "cell_type": "code",
   "execution_count": 3,
   "id": "b342d6cb-6dfc-42c1-be58-7d3d568d21df",
   "metadata": {},
   "outputs": [],
   "source": [
    "spna_dir=work_dir+'posteriors/EPTA-ONLY/SPNA/'+psrname+'/'\n",
    "spnta_dir=work_dir+'posteriors/EPTA-ONLY/SPNTA/'+psrname+'/results/'"
   ]
  },
  {
   "cell_type": "code",
   "execution_count": 4,
   "id": "5abd2e03",
   "metadata": {},
   "outputs": [],
   "source": [
    "import os\n",
    "with os.scandir(spna_dir) as entries:\n",
    "        for entry in entries:\n",
    "            spna_dir=spna_dir+entry.name+'/ptmcmc/'"
   ]
  },
  {
   "cell_type": "code",
   "execution_count": 5,
   "id": "f7f8f814",
   "metadata": {},
   "outputs": [
    {
     "name": "stderr",
     "output_type": "stream",
     "text": [
      "2023-04-07 18:49:31.864437: I tensorflow/tsl/cuda/cudart_stub.cc:28] Could not find cuda drivers on your machine, GPU will not be used.\n",
      "2023-04-07 18:49:31.892101: I tensorflow/tsl/cuda/cudart_stub.cc:28] Could not find cuda drivers on your machine, GPU will not be used.\n",
      "2023-04-07 18:49:31.892492: I tensorflow/core/platform/cpu_feature_guard.cc:182] This TensorFlow binary is optimized to use available CPU instructions in performance-critical operations.\n",
      "To enable the following instructions: AVX2 FMA, in other operations, rebuild TensorFlow with the appropriate compiler flags.\n",
      "2023-04-07 18:49:32.386129: W tensorflow/compiler/tf2tensorrt/utils/py_utils.cc:38] TF-TRT Warning: Could not find TensorRT\n"
     ]
    }
   ],
   "source": [
    "%matplotlib inline\n",
    "import sys, os\n",
    "sys.path.insert(0,os.path.realpath(os.path.join(os.getcwd(),'../..')))\n",
    "from getdist import plots, MCSamples\n",
    "from getdist.gaussian_mixtures import GaussianND\n",
    "import getdist\n",
    "getdist.chains.print_load_details = False\n",
    "import scipy\n",
    "import matplotlib.pyplot as plt\n",
    "import IPython\n",
    "from IPython.display import Markdown\n",
    "import numpy as np\n",
    "import seaborn as sns\n",
    "# import the tensiometer tools that we need:\n",
    "import tensiometer\n",
    "from tensiometer import utilities\n",
    "from tensiometer import gaussian_tension\n",
    "from tensiometer import mcmc_tension\n",
    "import pandas as pd\n",
    "sys.path.append(script_dir)\n",
    "from diff_chain import  Diff_chain_shift"
   ]
  },
  {
   "cell_type": "code",
   "execution_count": 6,
   "id": "64acc453-c529-4e6c-92d5-24ab92f9fc9d",
   "metadata": {},
   "outputs": [
    {
     "data": {
      "text/html": [
       "<div>\n",
       "<style scoped>\n",
       "    .dataframe tbody tr th:only-of-type {\n",
       "        vertical-align: middle;\n",
       "    }\n",
       "\n",
       "    .dataframe tbody tr th {\n",
       "        vertical-align: top;\n",
       "    }\n",
       "\n",
       "    .dataframe thead th {\n",
       "        text-align: right;\n",
       "    }\n",
       "</style>\n",
       "<table border=\"1\" class=\"dataframe\">\n",
       "  <thead>\n",
       "    <tr style=\"text-align: right;\">\n",
       "      <th></th>\n",
       "      <th>0</th>\n",
       "    </tr>\n",
       "  </thead>\n",
       "  <tbody>\n",
       "    <tr>\n",
       "      <th>0</th>\n",
       "      <td>J1751-2857_JBO.DFB.1520_efac</td>\n",
       "    </tr>\n",
       "    <tr>\n",
       "      <th>1</th>\n",
       "      <td>J1751-2857_JBO.DFB.1520_log10_tnequad</td>\n",
       "    </tr>\n",
       "    <tr>\n",
       "      <th>2</th>\n",
       "      <td>J1751-2857_JBO.ROACH.1520_efac</td>\n",
       "    </tr>\n",
       "    <tr>\n",
       "      <th>3</th>\n",
       "      <td>J1751-2857_JBO.ROACH.1520_log10_tnequad</td>\n",
       "    </tr>\n",
       "    <tr>\n",
       "      <th>4</th>\n",
       "      <td>J1751-2857_NRT.BON.1400_efac</td>\n",
       "    </tr>\n",
       "    <tr>\n",
       "      <th>5</th>\n",
       "      <td>J1751-2857_NRT.BON.1400_log10_tnequad</td>\n",
       "    </tr>\n",
       "    <tr>\n",
       "      <th>6</th>\n",
       "      <td>J1751-2857_NRT.NUPPI.1484_efac</td>\n",
       "    </tr>\n",
       "    <tr>\n",
       "      <th>7</th>\n",
       "      <td>J1751-2857_NRT.NUPPI.1484_log10_tnequad</td>\n",
       "    </tr>\n",
       "    <tr>\n",
       "      <th>8</th>\n",
       "      <td>J1751-2857_dm_gp_gamma</td>\n",
       "    </tr>\n",
       "    <tr>\n",
       "      <th>9</th>\n",
       "      <td>J1751-2857_dm_gp_log10_A</td>\n",
       "    </tr>\n",
       "  </tbody>\n",
       "</table>\n",
       "</div>"
      ],
      "text/plain": [
       "                                         0\n",
       "0             J1751-2857_JBO.DFB.1520_efac\n",
       "1    J1751-2857_JBO.DFB.1520_log10_tnequad\n",
       "2           J1751-2857_JBO.ROACH.1520_efac\n",
       "3  J1751-2857_JBO.ROACH.1520_log10_tnequad\n",
       "4             J1751-2857_NRT.BON.1400_efac\n",
       "5    J1751-2857_NRT.BON.1400_log10_tnequad\n",
       "6           J1751-2857_NRT.NUPPI.1484_efac\n",
       "7  J1751-2857_NRT.NUPPI.1484_log10_tnequad\n",
       "8                   J1751-2857_dm_gp_gamma\n",
       "9                 J1751-2857_dm_gp_log10_A"
      ]
     },
     "execution_count": 6,
     "metadata": {},
     "output_type": "execute_result"
    }
   ],
   "source": [
    "par_epta_spna=pd.read_csv(spna_dir+'pars.txt', header = None)\n",
    "lspn=len(par_epta_spna)\n",
    "par_epta_spna"
   ]
  },
  {
   "cell_type": "code",
   "execution_count": 7,
   "id": "fd275dc6-d23a-4d45-9030-25cbbc7399e8",
   "metadata": {},
   "outputs": [],
   "source": [
    "epta_spna_1=np.loadtxt(spna_dir+'chain_1.txt',usecols=(lspn-1,lspn-2,-3))"
   ]
  },
  {
   "cell_type": "code",
   "execution_count": 8,
   "id": "954ca30e-882f-4311-883a-5fa1df4960f5",
   "metadata": {},
   "outputs": [
    {
     "data": {
      "text/html": [
       "<div>\n",
       "<style scoped>\n",
       "    .dataframe tbody tr th:only-of-type {\n",
       "        vertical-align: middle;\n",
       "    }\n",
       "\n",
       "    .dataframe tbody tr th {\n",
       "        vertical-align: top;\n",
       "    }\n",
       "\n",
       "    .dataframe thead th {\n",
       "        text-align: right;\n",
       "    }\n",
       "</style>\n",
       "<table border=\"1\" class=\"dataframe\">\n",
       "  <thead>\n",
       "    <tr style=\"text-align: right;\">\n",
       "      <th></th>\n",
       "      <th>0</th>\n",
       "    </tr>\n",
       "  </thead>\n",
       "  <tbody>\n",
       "    <tr>\n",
       "      <th>0</th>\n",
       "      <td>RAJ \\alpha</td>\n",
       "    </tr>\n",
       "    <tr>\n",
       "      <th>1</th>\n",
       "      <td>DECJ \\delta</td>\n",
       "    </tr>\n",
       "    <tr>\n",
       "      <th>2</th>\n",
       "      <td>F0 \\nu</td>\n",
       "    </tr>\n",
       "    <tr>\n",
       "      <th>3</th>\n",
       "      <td>F1 \\dot{\\nu}</td>\n",
       "    </tr>\n",
       "    <tr>\n",
       "      <th>4</th>\n",
       "      <td>DM</td>\n",
       "    </tr>\n",
       "    <tr>\n",
       "      <th>5</th>\n",
       "      <td>DM1</td>\n",
       "    </tr>\n",
       "    <tr>\n",
       "      <th>6</th>\n",
       "      <td>DM2</td>\n",
       "    </tr>\n",
       "    <tr>\n",
       "      <th>7</th>\n",
       "      <td>PMRA \\mu_\\alpha</td>\n",
       "    </tr>\n",
       "    <tr>\n",
       "      <th>8</th>\n",
       "      <td>PMDEC \\mu_\\delta</td>\n",
       "    </tr>\n",
       "    <tr>\n",
       "      <th>9</th>\n",
       "      <td>PX \\pi</td>\n",
       "    </tr>\n",
       "    <tr>\n",
       "      <th>10</th>\n",
       "      <td>PB P_b</td>\n",
       "    </tr>\n",
       "    <tr>\n",
       "      <th>11</th>\n",
       "      <td>T0 T_0</td>\n",
       "    </tr>\n",
       "    <tr>\n",
       "      <th>12</th>\n",
       "      <td>A1 A1</td>\n",
       "    </tr>\n",
       "    <tr>\n",
       "      <th>13</th>\n",
       "      <td>OM \\omega</td>\n",
       "    </tr>\n",
       "    <tr>\n",
       "      <th>14</th>\n",
       "      <td>ECC e</td>\n",
       "    </tr>\n",
       "    <tr>\n",
       "      <th>15</th>\n",
       "      <td>XDOT XDOT</td>\n",
       "    </tr>\n",
       "    <tr>\n",
       "      <th>16</th>\n",
       "      <td>EFAC1</td>\n",
       "    </tr>\n",
       "    <tr>\n",
       "      <th>17</th>\n",
       "      <td>EFAC2</td>\n",
       "    </tr>\n",
       "    <tr>\n",
       "      <th>18</th>\n",
       "      <td>EFAC3</td>\n",
       "    </tr>\n",
       "    <tr>\n",
       "      <th>19</th>\n",
       "      <td>EFAC4</td>\n",
       "    </tr>\n",
       "    <tr>\n",
       "      <th>20</th>\n",
       "      <td>EQUAD1</td>\n",
       "    </tr>\n",
       "    <tr>\n",
       "      <th>21</th>\n",
       "      <td>EQUAD2</td>\n",
       "    </tr>\n",
       "    <tr>\n",
       "      <th>22</th>\n",
       "      <td>EQUAD3</td>\n",
       "    </tr>\n",
       "    <tr>\n",
       "      <th>23</th>\n",
       "      <td>EQUAD4</td>\n",
       "    </tr>\n",
       "    <tr>\n",
       "      <th>24</th>\n",
       "      <td>DMAmp</td>\n",
       "    </tr>\n",
       "    <tr>\n",
       "      <th>25</th>\n",
       "      <td>DMSlope</td>\n",
       "    </tr>\n",
       "  </tbody>\n",
       "</table>\n",
       "</div>"
      ],
      "text/plain": [
       "                   0\n",
       "0         RAJ \\alpha\n",
       "1        DECJ \\delta\n",
       "2             F0 \\nu\n",
       "3       F1 \\dot{\\nu}\n",
       "4                DM \n",
       "5               DM1 \n",
       "6               DM2 \n",
       "7    PMRA \\mu_\\alpha\n",
       "8   PMDEC \\mu_\\delta\n",
       "9             PX \\pi\n",
       "10            PB P_b\n",
       "11            T0 T_0\n",
       "12             A1 A1\n",
       "13         OM \\omega\n",
       "14             ECC e\n",
       "15         XDOT XDOT\n",
       "16             EFAC1\n",
       "17             EFAC2\n",
       "18             EFAC3\n",
       "19             EFAC4\n",
       "20            EQUAD1\n",
       "21            EQUAD2\n",
       "22            EQUAD3\n",
       "23            EQUAD4\n",
       "24             DMAmp\n",
       "25           DMSlope"
      ]
     },
     "execution_count": 8,
     "metadata": {},
     "output_type": "execute_result"
    }
   ],
   "source": [
    "par_epta_spnta=pd.read_csv(spnta_dir+'TNfinal-'+psrname+'-.paramnames', header = None)\n",
    "lspnt=len(par_epta_spnta)\n",
    "par_epta_spnta"
   ]
  },
  {
   "cell_type": "code",
   "execution_count": 9,
   "id": "ed569072-efa1-4106-9e05-bc05c3bdbed7",
   "metadata": {},
   "outputs": [],
   "source": [
    "epta_spnta_1=np.loadtxt(spnta_dir+'TNfinal-'+psrname+'-post_equal_weights.dat',usecols=(lspnt-2,lspnt-1,-1))"
   ]
  },
  {
   "cell_type": "code",
   "execution_count": 10,
   "id": "5517e9a1-67af-439e-8d45-fed20d1e4583",
   "metadata": {},
   "outputs": [],
   "source": [
    "epta_spna_1.T[0]=epta_spna_1.T[0]+1.64"
   ]
  },
  {
   "cell_type": "code",
   "execution_count": 11,
   "id": "3620ef58-8e36-4433-9f53-2610440b39eb",
   "metadata": {},
   "outputs": [],
   "source": [
    "spna_arr_dm=epta_spna_1.T[0:2];spnta_arr_dm=epta_spnta_1.T[0:2]"
   ]
  },
  {
   "cell_type": "code",
   "execution_count": 12,
   "id": "43f76dc8-ee58-4d93-bf62-13399dd4e61b",
   "metadata": {},
   "outputs": [],
   "source": [
    "loglike_spna=epta_spna_1.T[-1];loglike_spnta=epta_spnta_1.T[-1]"
   ]
  },
  {
   "cell_type": "markdown",
   "id": "21afc3b7-e184-4e28-9ab5-32f205bc6b4c",
   "metadata": {},
   "source": [
    "# Tension considering dm noise only"
   ]
  },
  {
   "cell_type": "code",
   "execution_count": 13,
   "id": "f47310be",
   "metadata": {},
   "outputs": [],
   "source": [
    "names_dm = ['gamma_DM','logA_DM']\n",
    "labels_dm=['\\gamma_{DM}','\\log A_{DM}']\n",
    "del_dm=['delta_gamma_DM','delta_logA_DM']"
   ]
  },
  {
   "cell_type": "code",
   "execution_count": 14,
   "id": "a5ccfb13-4bfb-4334-8e01-f61c183ed24a",
   "metadata": {},
   "outputs": [],
   "source": [
    "spna_dm=MCSamples(samples=np.array(spna_arr_dm).transpose(),loglikes=loglike_spna,names=names_dm,labels=labels_dm,label='SPNA')\n",
    "spnta_dm=MCSamples(samples=np.array(spnta_arr_dm).transpose(),loglikes=loglike_spnta,names = names_dm,labels=labels_dm,label='SPNTA \\n'+psrname)"
   ]
  },
  {
   "cell_type": "code",
   "execution_count": 15,
   "id": "c01baf18-c1b0-4f51-9bec-1f6b07fe7dac",
   "metadata": {},
   "outputs": [
    {
     "data": {
      "image/png": "[encoded data removed]",
      "text/plain": [
       "<Figure size 400x400 with 3 Axes>"
      ]
     },
     "metadata": {},
     "output_type": "display_data"
    }
   ],
   "source": [
    "%matplotlib inline\n",
    "g = plots.get_subplot_plotter()\n",
    "g.triangle_plot([spna_dm,spnta_dm], filled=True)\n",
    "#plt.savefig(psrname+'_R_DM_EPTA_dm.png',dpi=300)\n",
    "plt.show()"
   ]
  },
  {
   "cell_type": "code",
   "execution_count": 16,
   "id": "f7211edc-091c-43a8-8f70-9265dd86315d",
   "metadata": {},
   "outputs": [
    {
     "data": {
      "image/png": "[encoded data removed]",
      "text/plain": [
       "<Figure size 400x400 with 3 Axes>"
      ]
     },
     "metadata": {},
     "output_type": "display_data"
    }
   ],
   "source": [
    "%matplotlib inline\n",
    "diff_chain_dm, nsig_dm, chi_2_dm, D_B_dm=Diff_chain_shift(spna_dm,spnta_dm)\n",
    "g = plots.get_subplot_plotter()\n",
    "#nsig=utilities.from_confidence_to_sigma(shift_probability)\n",
    "#getdist.plots.GetDistPlotSettings()\n",
    "g.triangle_plot(diff_chain_dm, filled=True,legend_labels = [psrname+'\\n\\n$\\Delta_T=$'+\n",
    "                        str(\"{:.4f}\".format(nsig_dm))+'$\\sigma$'],markers=[0,0,0,0])\n",
    "#g.add_label(['$\\Delta=$'+str(\"{:.2f}\".format(nsig))+'$\\sigma$'], colodm_text=True)\n",
    "#plt.savefig(psrname+'_diff_EPTA_dm.png',dpi=300)"
   ]
  }
 ],
 "metadata": {
  "kernelspec": {
   "display_name": "Python 3 (ipykernel)",
   "language": "python",
   "name": "python3"
  },
  "language_info": {
   "codemirror_mode": {
    "name": "ipython",
    "version": 3
   },
   "file_extension": ".py",
   "mimetype": "text/x-python",
   "name": "python",
   "nbconvert_exporter": "python",
   "pygments_lexer": "ipython3",
   "version": "3.9.16"
  }
 },
 "nbformat": 4,
 "nbformat_minor": 5
}
