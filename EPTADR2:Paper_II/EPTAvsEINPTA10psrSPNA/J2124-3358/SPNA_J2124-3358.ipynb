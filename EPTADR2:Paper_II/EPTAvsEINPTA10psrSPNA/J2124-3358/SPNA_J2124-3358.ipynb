{
 "cells": [
  {
   "cell_type": "code",
   "execution_count": 1,
   "id": "b96f9281",
   "metadata": {
    "execution": {
     "iopub.execute_input": "2023-04-15T21:05:55.638757Z",
     "iopub.status.busy": "2023-04-15T21:05:55.638370Z",
     "iopub.status.idle": "2023-04-15T21:05:55.650360Z",
     "shell.execute_reply": "2023-04-15T21:05:55.649760Z"
    }
   },
   "outputs": [],
   "source": [
    "psrname='J2124-3358'"
   ]
  },
  {
   "cell_type": "code",
   "execution_count": 2,
   "id": "b342d6cb-6dfc-42c1-be58-7d3d568d21df",
   "metadata": {
    "execution": {
     "iopub.execute_input": "2023-04-15T21:05:55.654499Z",
     "iopub.status.busy": "2023-04-15T21:05:55.654158Z",
     "iopub.status.idle": "2023-04-15T21:05:55.658265Z",
     "shell.execute_reply": "2023-04-15T21:05:55.657394Z"
    }
   },
   "outputs": [],
   "source": [
    "epta_dir='/media/root1/3PAR/sdandapat/posteriors/EPTA-ONLY/SPNA/'+psrname+'/'\n",
    "einpta_dir='/media/root1/3PAR/sdandapat/posteriors/EPTA+INPTA/SPNA/'+psrname+'/'"
   ]
  },
  {
   "cell_type": "code",
   "execution_count": 3,
   "id": "5abd2e03",
   "metadata": {
    "execution": {
     "iopub.execute_input": "2023-04-15T21:05:55.662529Z",
     "iopub.status.busy": "2023-04-15T21:05:55.661876Z",
     "iopub.status.idle": "2023-04-15T21:05:55.670269Z",
     "shell.execute_reply": "2023-04-15T21:05:55.669547Z"
    }
   },
   "outputs": [],
   "source": [
    "import os\n",
    "dir_arr=[epta_dir,einpta_dir]\n",
    "for index in range(len(dir_arr)):\n",
    "    \n",
    "    with os.scandir(dir_arr[index]) as entries:\n",
    "            for entry in entries:\n",
    "                dir_arr[index]=dir_arr[index]+entry.name+'/ptmcmc/'\n",
    "epta_dir=dir_arr[0]\n",
    "einpta_dir=dir_arr[1]"
   ]
  },
  {
   "cell_type": "code",
   "execution_count": 4,
   "id": "e9676f7b",
   "metadata": {
    "execution": {
     "iopub.execute_input": "2023-04-15T21:05:55.673175Z",
     "iopub.status.busy": "2023-04-15T21:05:55.672777Z",
     "iopub.status.idle": "2023-04-15T21:05:55.680751Z",
     "shell.execute_reply": "2023-04-15T21:05:55.680010Z"
    }
   },
   "outputs": [
    {
     "data": {
      "text/plain": [
       "'/media/root1/3PAR/sdandapat/posteriors/EPTA-ONLY/SPNA/J2124-3358/TM_WN_DM41/ptmcmc/'"
      ]
     },
     "execution_count": 4,
     "metadata": {},
     "output_type": "execute_result"
    }
   ],
   "source": [
    "epta_dir"
   ]
  },
  {
   "cell_type": "code",
   "execution_count": 5,
   "id": "f7f8f814",
   "metadata": {
    "execution": {
     "iopub.execute_input": "2023-04-15T21:05:55.683599Z",
     "iopub.status.busy": "2023-04-15T21:05:55.683393Z",
     "iopub.status.idle": "2023-04-15T21:05:59.430992Z",
     "shell.execute_reply": "2023-04-15T21:05:59.430030Z"
    }
   },
   "outputs": [
    {
     "name": "stderr",
     "output_type": "stream",
     "text": [
      "2023-04-16 02:35:57.276786: I tensorflow/tsl/cuda/cudart_stub.cc:28] Could not find cuda drivers on your machine, GPU will not be used.\n",
      "2023-04-16 02:35:57.328011: I tensorflow/tsl/cuda/cudart_stub.cc:28] Could not find cuda drivers on your machine, GPU will not be used.\n",
      "2023-04-16 02:35:57.330879: I tensorflow/core/platform/cpu_feature_guard.cc:182] This TensorFlow binary is optimized to use available CPU instructions in performance-critical operations.\n",
      "To enable the following instructions: AVX2 AVX512F FMA, in other operations, rebuild TensorFlow with the appropriate compiler flags.\n",
      "2023-04-16 02:35:58.239053: W tensorflow/compiler/tf2tensorrt/utils/py_utils.cc:38] TF-TRT Warning: Could not find TensorRT\n"
     ]
    }
   ],
   "source": [
    "%matplotlib inline\n",
    "import sys, os\n",
    "sys.path.insert(0,os.path.realpath(os.path.join(os.getcwd(),'../..')))\n",
    "from getdist import plots, MCSamples\n",
    "from getdist.gaussian_mixtures import GaussianND\n",
    "import getdist\n",
    "getdist.chains.print_load_details = False\n",
    "import scipy\n",
    "import matplotlib.pyplot as plt\n",
    "import IPython\n",
    "from IPython.display import Markdown\n",
    "import numpy as np\n",
    "import seaborn as sns\n",
    "# import the tensiometer tools that we need:\n",
    "import tensiometer\n",
    "from tensiometer import utilities\n",
    "from tensiometer import gaussian_tension\n",
    "from tensiometer import mcmc_tension\n",
    "import pandas as pd\n",
    "sys.path.append('/media/root1/3PAR/sdandapat/work_dir/')\n",
    "from diff_chain import  Diff_chain_shift"
   ]
  },
  {
   "cell_type": "code",
   "execution_count": 6,
   "id": "64acc453-c529-4e6c-92d5-24ab92f9fc9d",
   "metadata": {
    "execution": {
     "iopub.execute_input": "2023-04-15T21:05:59.437217Z",
     "iopub.status.busy": "2023-04-15T21:05:59.436072Z",
     "iopub.status.idle": "2023-04-15T21:05:59.447256Z",
     "shell.execute_reply": "2023-04-15T21:05:59.446549Z"
    }
   },
   "outputs": [],
   "source": [
    "par_epta_spna=pd.read_csv(epta_dir+'pars.txt', header = None)\n",
    "lep=len(par_epta_spna)\n",
    "#par_epta_spna"
   ]
  },
  {
   "cell_type": "code",
   "execution_count": 7,
   "id": "fd275dc6-d23a-4d45-9030-25cbbc7399e8",
   "metadata": {
    "execution": {
     "iopub.execute_input": "2023-04-15T21:05:59.451860Z",
     "iopub.status.busy": "2023-04-15T21:05:59.451429Z",
     "iopub.status.idle": "2023-04-15T21:05:59.952827Z",
     "shell.execute_reply": "2023-04-15T21:05:59.952102Z"
    }
   },
   "outputs": [],
   "source": [
    "epta_spna_1=np.loadtxt(epta_dir+'chain_1.txt',usecols=(lep-1,lep-2,-3))"
   ]
  },
  {
   "cell_type": "code",
   "execution_count": 8,
   "id": "954ca30e-882f-4311-883a-5fa1df4960f5",
   "metadata": {
    "execution": {
     "iopub.execute_input": "2023-04-15T21:05:59.958519Z",
     "iopub.status.busy": "2023-04-15T21:05:59.958159Z",
     "iopub.status.idle": "2023-04-15T21:05:59.963901Z",
     "shell.execute_reply": "2023-04-15T21:05:59.963313Z"
    }
   },
   "outputs": [],
   "source": [
    "par_einpta_spna=pd.read_csv(einpta_dir+'pars.txt', header = None)\n",
    "leinp=len(par_einpta_spna)\n",
    "#par_einpta_spna"
   ]
  },
  {
   "cell_type": "code",
   "execution_count": 9,
   "id": "ed569072-efa1-4106-9e05-bc05c3bdbed7",
   "metadata": {
    "execution": {
     "iopub.execute_input": "2023-04-15T21:05:59.968084Z",
     "iopub.status.busy": "2023-04-15T21:05:59.967759Z",
     "iopub.status.idle": "2023-04-15T21:06:00.592441Z",
     "shell.execute_reply": "2023-04-15T21:06:00.591744Z"
    }
   },
   "outputs": [],
   "source": [
    "einpta_spna_1=np.loadtxt(einpta_dir+'chain_1.txt',usecols=(leinp-1,leinp-2,-3))"
   ]
  },
  {
   "cell_type": "code",
   "execution_count": 10,
   "id": "3620ef58-8e36-4433-9f53-2610440b39eb",
   "metadata": {
    "execution": {
     "iopub.execute_input": "2023-04-15T21:06:00.598179Z",
     "iopub.status.busy": "2023-04-15T21:06:00.597847Z",
     "iopub.status.idle": "2023-04-15T21:06:00.601535Z",
     "shell.execute_reply": "2023-04-15T21:06:00.600964Z"
    }
   },
   "outputs": [],
   "source": [
    "epta_spna_arr_dm=epta_spna_1.T[0:2];einpta_spna_arr_dm=einpta_spna_1.T[0:2]"
   ]
  },
  {
   "cell_type": "code",
   "execution_count": 11,
   "id": "43f76dc8-ee58-4d93-bf62-13399dd4e61b",
   "metadata": {
    "execution": {
     "iopub.execute_input": "2023-04-15T21:06:00.605761Z",
     "iopub.status.busy": "2023-04-15T21:06:00.605479Z",
     "iopub.status.idle": "2023-04-15T21:06:00.608857Z",
     "shell.execute_reply": "2023-04-15T21:06:00.608310Z"
    }
   },
   "outputs": [],
   "source": [
    "loglike_spna_epta=epta_spna_1.T[-1];loglike_spna_einpta=einpta_spna_1.T[-1]"
   ]
  },
  {
   "cell_type": "markdown",
   "id": "21afc3b7-e184-4e28-9ab5-32f205bc6b4c",
   "metadata": {},
   "source": [
    "# Tension considering dm noise only"
   ]
  },
  {
   "cell_type": "code",
   "execution_count": 12,
   "id": "731499ae",
   "metadata": {
    "execution": {
     "iopub.execute_input": "2023-04-15T21:06:00.611990Z",
     "iopub.status.busy": "2023-04-15T21:06:00.611705Z",
     "iopub.status.idle": "2023-04-15T21:06:00.614919Z",
     "shell.execute_reply": "2023-04-15T21:06:00.614361Z"
    }
   },
   "outputs": [],
   "source": [
    "names_dm = ['dm_logA','dm_gamma']\n",
    "labels_dm=['\\log A_{DM}','\\gamma_{DM}']"
   ]
  },
  {
   "cell_type": "code",
   "execution_count": 13,
   "id": "a5ccfb13-4bfb-4334-8e01-f61c183ed24a",
   "metadata": {
    "execution": {
     "iopub.execute_input": "2023-04-15T21:06:00.617374Z",
     "iopub.status.busy": "2023-04-15T21:06:00.617096Z",
     "iopub.status.idle": "2023-04-15T21:06:00.776188Z",
     "shell.execute_reply": "2023-04-15T21:06:00.775127Z"
    }
   },
   "outputs": [],
   "source": [
    "epta_dm=MCSamples(samples=np.array(epta_spna_arr_dm).transpose(),loglikes=loglike_spna_epta,names=names_dm,labels=labels_dm,label='EPTA')\n",
    "einpta_dm=MCSamples(samples=np.array(einpta_spna_arr_dm).transpose(),loglikes=loglike_spna_einpta,names = names_dm,labels=labels_dm,label='EPTA+INPTA \\n'+psrname)"
   ]
  },
  {
   "cell_type": "code",
   "execution_count": 14,
   "id": "c01baf18-c1b0-4f51-9bec-1f6b07fe7dac",
   "metadata": {
    "execution": {
     "iopub.execute_input": "2023-04-15T21:06:00.781183Z",
     "iopub.status.busy": "2023-04-15T21:06:00.780778Z",
     "iopub.status.idle": "2023-04-15T21:06:04.400245Z",
     "shell.execute_reply": "2023-04-15T21:06:04.399215Z"
    }
   },
   "outputs": [
    {
     "data": {
      "image/png": "[encoded data removed]",
      "text/plain": [
       "<Figure size 400x400 with 3 Axes>"
      ]
     },
     "metadata": {},
     "output_type": "display_data"
    }
   ],
   "source": [
    "%matplotlib inline\n",
    "g = plots.get_subplot_plotter()\n",
    "g.triangle_plot([epta_dm,einpta_dm], filled=True)\n",
    "plt.savefig(psrname+'_EPTAvsEINPTA_SPNA_DM.png',dpi=300)\n",
    "plt.show()"
   ]
  },
  {
   "cell_type": "code",
   "execution_count": 15,
   "id": "f7211edc-091c-43a8-8f70-9265dd86315d",
   "metadata": {
    "execution": {
     "iopub.execute_input": "2023-04-15T21:06:04.404744Z",
     "iopub.status.busy": "2023-04-15T21:06:04.404275Z",
     "iopub.status.idle": "2023-04-15T21:06:10.998550Z",
     "shell.execute_reply": "2023-04-15T21:06:10.997636Z"
    }
   },
   "outputs": [
    {
     "data": {
      "image/png": "[encoded data removed]",
      "text/plain": [
       "<Figure size 400x400 with 3 Axes>"
      ]
     },
     "metadata": {},
     "output_type": "display_data"
    }
   ],
   "source": [
    "%matplotlib inline\n",
    "diff_chain_dm, nsig_dm,sigl_dm,sigu_dm=Diff_chain_shift(epta_dm,einpta_dm)\n",
    "\n",
    "g = plots.get_subplot_plotter()\n",
    "#nsig=utilities.from_confidence_to_sigma(shift_probability)\n",
    "#getdist.plots.GetDistPlotSettings()\n",
    "g.triangle_plot(diff_chain_dm, filled=True,legend_labels = [psrname+'\\n\\n$\\Delta_T=$'+\n",
    "                        str(\"{:.5f}\".format(nsig_dm))+' (-'+str(\"{:.5f}\".format(sigu_dm-nsig_dm))\n",
    "                        +'\\n/+'+str(\"{:.5f}\".format(nsig_dm-sigl_dm))+') $\\sigma$'],markers=[0,0,0,0])\n",
    "\n",
    "plt.savefig(psrname+'diff_EPTAvsEINPTA_SPNA_dm.png',dpi=300)"
   ]
  },
  {
   "cell_type": "code",
   "execution_count": null,
   "id": "045427b8",
   "metadata": {},
   "outputs": [],
   "source": []
  }
 ],
 "metadata": {
  "kernelspec": {
   "display_name": "Python 3 (ipykernel)",
   "language": "python",
   "name": "python3"
  },
  "language_info": {
   "codemirror_mode": {
    "name": "ipython",
    "version": 3
   },
   "file_extension": ".py",
   "mimetype": "text/x-python",
   "name": "python",
   "nbconvert_exporter": "python",
   "pygments_lexer": "ipython3",
   "version": "3.9.16"
  }
 },
 "nbformat": 4,
 "nbformat_minor": 5
}
