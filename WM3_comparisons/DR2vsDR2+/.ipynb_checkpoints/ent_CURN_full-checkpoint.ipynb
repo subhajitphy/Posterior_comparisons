{
 "cells": [
  {
   "cell_type": "code",
   "execution_count": 1,
   "id": "a7cd4d1e",
   "metadata": {
    "execution": {
     "iopub.execute_input": "2023-04-14T23:18:26.096023Z",
     "iopub.status.busy": "2023-04-14T23:18:26.095772Z",
     "iopub.status.idle": "2023-04-14T23:18:26.102658Z",
     "shell.execute_reply": "2023-04-14T23:18:26.102164Z"
    }
   },
   "outputs": [],
   "source": [
    "einpta_dir='EPTAWM3/DR2full+InPTA/CRN/'\n",
    "epta_dir='EPTAWM3/full/chains_ep_chen/crn_pl/'"
   ]
  },
  {
   "cell_type": "code",
   "execution_count": 2,
   "id": "91361943",
   "metadata": {
    "execution": {
     "iopub.execute_input": "2023-04-14T23:18:26.105733Z",
     "iopub.status.busy": "2023-04-14T23:18:26.105109Z",
     "iopub.status.idle": "2023-04-14T23:18:26.108309Z",
     "shell.execute_reply": "2023-04-14T23:18:26.107737Z"
    }
   },
   "outputs": [],
   "source": [
    "term='curn_full'"
   ]
  },
  {
   "cell_type": "code",
   "execution_count": 3,
   "id": "66b2ee94",
   "metadata": {
    "execution": {
     "iopub.execute_input": "2023-04-14T23:18:26.111295Z",
     "iopub.status.busy": "2023-04-14T23:18:26.110795Z",
     "iopub.status.idle": "2023-04-14T23:18:28.962007Z",
     "shell.execute_reply": "2023-04-14T23:18:28.961317Z"
    }
   },
   "outputs": [
    {
     "name": "stderr",
     "output_type": "stream",
     "text": [
      "2023-04-15 04:48:27.304128: I tensorflow/tsl/cuda/cudart_stub.cc:28] Could not find cuda drivers on your machine, GPU will not be used.\n",
      "2023-04-15 04:48:27.341313: I tensorflow/tsl/cuda/cudart_stub.cc:28] Could not find cuda drivers on your machine, GPU will not be used.\n",
      "2023-04-15 04:48:27.342045: I tensorflow/core/platform/cpu_feature_guard.cc:182] This TensorFlow binary is optimized to use available CPU instructions in performance-critical operations.\n",
      "To enable the following instructions: AVX2 FMA, in other operations, rebuild TensorFlow with the appropriate compiler flags.\n",
      "2023-04-15 04:48:27.978186: W tensorflow/compiler/tf2tensorrt/utils/py_utils.cc:38] TF-TRT Warning: Could not find TensorRT\n"
     ]
    }
   ],
   "source": [
    "script_loc='./'\n",
    "import sys, os\n",
    "from getdist import plots, MCSamples\n",
    "from getdist.gaussian_mixtures import GaussianND\n",
    "import getdist\n",
    "getdist.chains.print_load_details = False\n",
    "import scipy\n",
    "import matplotlib.pyplot as plt\n",
    "import IPython\n",
    "from IPython.display import Markdown\n",
    "import numpy as np\n",
    "import seaborn as sns\n",
    "# import the tensiometer tools that we need:\n",
    "import tensiometer\n",
    "from tensiometer import utilities\n",
    "from tensiometer import gaussian_tension\n",
    "from tensiometer import mcmc_tension\n",
    "import pandas as pd\n",
    "sys.path.append(script_loc)\n",
    "from diff_chain import  Diff_chain_shift"
   ]
  },
  {
   "cell_type": "code",
   "execution_count": 4,
   "id": "71ed150c",
   "metadata": {
    "execution": {
     "iopub.execute_input": "2023-04-14T23:18:28.965603Z",
     "iopub.status.busy": "2023-04-14T23:18:28.965150Z",
     "iopub.status.idle": "2023-04-14T23:18:28.982335Z",
     "shell.execute_reply": "2023-04-14T23:18:28.981626Z"
    }
   },
   "outputs": [
    {
     "data": {
      "text/html": [
       "<div>\n",
       "<style scoped>\n",
       "    .dataframe tbody tr th:only-of-type {\n",
       "        vertical-align: middle;\n",
       "    }\n",
       "\n",
       "    .dataframe tbody tr th {\n",
       "        vertical-align: top;\n",
       "    }\n",
       "\n",
       "    .dataframe thead th {\n",
       "        text-align: right;\n",
       "    }\n",
       "</style>\n",
       "<table border=\"1\" class=\"dataframe\">\n",
       "  <thead>\n",
       "    <tr style=\"text-align: right;\">\n",
       "      <th></th>\n",
       "      <th>0</th>\n",
       "    </tr>\n",
       "  </thead>\n",
       "  <tbody>\n",
       "    <tr>\n",
       "      <th>0</th>\n",
       "      <td>J0030+0451_red_noise_gamma</td>\n",
       "    </tr>\n",
       "    <tr>\n",
       "      <th>1</th>\n",
       "      <td>J0030+0451_red_noise_log10_A</td>\n",
       "    </tr>\n",
       "    <tr>\n",
       "      <th>2</th>\n",
       "      <td>J0613-0200_dm_gp_gamma</td>\n",
       "    </tr>\n",
       "    <tr>\n",
       "      <th>3</th>\n",
       "      <td>J0613-0200_dm_gp_log10_A</td>\n",
       "    </tr>\n",
       "    <tr>\n",
       "      <th>4</th>\n",
       "      <td>J0613-0200_red_noise_gamma</td>\n",
       "    </tr>\n",
       "    <tr>\n",
       "      <th>...</th>\n",
       "      <td>...</td>\n",
       "    </tr>\n",
       "    <tr>\n",
       "      <th>69</th>\n",
       "      <td>J2124-3358_dm_gp_log10_A</td>\n",
       "    </tr>\n",
       "    <tr>\n",
       "      <th>70</th>\n",
       "      <td>J2322+2057_red_noise_gamma</td>\n",
       "    </tr>\n",
       "    <tr>\n",
       "      <th>71</th>\n",
       "      <td>J2322+2057_red_noise_log10_A</td>\n",
       "    </tr>\n",
       "    <tr>\n",
       "      <th>72</th>\n",
       "      <td>gw_crn_gamma</td>\n",
       "    </tr>\n",
       "    <tr>\n",
       "      <th>73</th>\n",
       "      <td>gw_crn_log10_A</td>\n",
       "    </tr>\n",
       "  </tbody>\n",
       "</table>\n",
       "<p>74 rows × 1 columns</p>\n",
       "</div>"
      ],
      "text/plain": [
       "                               0\n",
       "0     J0030+0451_red_noise_gamma\n",
       "1   J0030+0451_red_noise_log10_A\n",
       "2         J0613-0200_dm_gp_gamma\n",
       "3       J0613-0200_dm_gp_log10_A\n",
       "4     J0613-0200_red_noise_gamma\n",
       "..                           ...\n",
       "69      J2124-3358_dm_gp_log10_A\n",
       "70    J2322+2057_red_noise_gamma\n",
       "71  J2322+2057_red_noise_log10_A\n",
       "72                  gw_crn_gamma\n",
       "73                gw_crn_log10_A\n",
       "\n",
       "[74 rows x 1 columns]"
      ]
     },
     "execution_count": 4,
     "metadata": {},
     "output_type": "execute_result"
    }
   ],
   "source": [
    "par_einpta=pd.read_csv(einpta_dir+'pars.txt', header = None)\n",
    "lt=len(par_einpta)\n",
    "par_einpta"
   ]
  },
  {
   "cell_type": "code",
   "execution_count": 5,
   "id": "d2b4d17c",
   "metadata": {
    "execution": {
     "iopub.execute_input": "2023-04-14T23:18:28.985568Z",
     "iopub.status.busy": "2023-04-14T23:18:28.985227Z",
     "iopub.status.idle": "2023-04-14T23:18:29.245105Z",
     "shell.execute_reply": "2023-04-14T23:18:29.244547Z"
    }
   },
   "outputs": [],
   "source": [
    "einpta_1=np.loadtxt(einpta_dir+'chain_1.txt',usecols=(lt-2,lt-1,-3))"
   ]
  },
  {
   "cell_type": "code",
   "execution_count": 6,
   "id": "2b1ab052",
   "metadata": {
    "execution": {
     "iopub.execute_input": "2023-04-14T23:18:29.247398Z",
     "iopub.status.busy": "2023-04-14T23:18:29.247218Z",
     "iopub.status.idle": "2023-04-14T23:18:29.256320Z",
     "shell.execute_reply": "2023-04-14T23:18:29.255798Z"
    }
   },
   "outputs": [
    {
     "data": {
      "text/html": [
       "<div>\n",
       "<style scoped>\n",
       "    .dataframe tbody tr th:only-of-type {\n",
       "        vertical-align: middle;\n",
       "    }\n",
       "\n",
       "    .dataframe tbody tr th {\n",
       "        vertical-align: top;\n",
       "    }\n",
       "\n",
       "    .dataframe thead th {\n",
       "        text-align: right;\n",
       "    }\n",
       "</style>\n",
       "<table border=\"1\" class=\"dataframe\">\n",
       "  <thead>\n",
       "    <tr style=\"text-align: right;\">\n",
       "      <th></th>\n",
       "      <th>0</th>\n",
       "    </tr>\n",
       "  </thead>\n",
       "  <tbody>\n",
       "    <tr>\n",
       "      <th>0</th>\n",
       "      <td>J0030+0451_red_noise_gamma</td>\n",
       "    </tr>\n",
       "    <tr>\n",
       "      <th>1</th>\n",
       "      <td>J0030+0451_red_noise_log10_A</td>\n",
       "    </tr>\n",
       "    <tr>\n",
       "      <th>2</th>\n",
       "      <td>J0613-0200_dm_gp_gamma</td>\n",
       "    </tr>\n",
       "    <tr>\n",
       "      <th>3</th>\n",
       "      <td>J0613-0200_dm_gp_log10_A</td>\n",
       "    </tr>\n",
       "    <tr>\n",
       "      <th>4</th>\n",
       "      <td>J0613-0200_red_noise_gamma</td>\n",
       "    </tr>\n",
       "    <tr>\n",
       "      <th>...</th>\n",
       "      <td>...</td>\n",
       "    </tr>\n",
       "    <tr>\n",
       "      <th>69</th>\n",
       "      <td>J2124-3358_dm_gp_log10_A</td>\n",
       "    </tr>\n",
       "    <tr>\n",
       "      <th>70</th>\n",
       "      <td>J2322+2057_red_noise_gamma</td>\n",
       "    </tr>\n",
       "    <tr>\n",
       "      <th>71</th>\n",
       "      <td>J2322+2057_red_noise_log10_A</td>\n",
       "    </tr>\n",
       "    <tr>\n",
       "      <th>72</th>\n",
       "      <td>gw_crn_gamma</td>\n",
       "    </tr>\n",
       "    <tr>\n",
       "      <th>73</th>\n",
       "      <td>gw_crn_log10_A</td>\n",
       "    </tr>\n",
       "  </tbody>\n",
       "</table>\n",
       "<p>74 rows × 1 columns</p>\n",
       "</div>"
      ],
      "text/plain": [
       "                               0\n",
       "0     J0030+0451_red_noise_gamma\n",
       "1   J0030+0451_red_noise_log10_A\n",
       "2         J0613-0200_dm_gp_gamma\n",
       "3       J0613-0200_dm_gp_log10_A\n",
       "4     J0613-0200_red_noise_gamma\n",
       "..                           ...\n",
       "69      J2124-3358_dm_gp_log10_A\n",
       "70    J2322+2057_red_noise_gamma\n",
       "71  J2322+2057_red_noise_log10_A\n",
       "72                  gw_crn_gamma\n",
       "73                gw_crn_log10_A\n",
       "\n",
       "[74 rows x 1 columns]"
      ]
     },
     "execution_count": 6,
     "metadata": {},
     "output_type": "execute_result"
    }
   ],
   "source": [
    "par_epta=pd.read_csv(epta_dir+'pars.txt', header = None)\n",
    "lf=len(par_epta)\n",
    "par_epta"
   ]
  },
  {
   "cell_type": "code",
   "execution_count": 7,
   "id": "5196d493",
   "metadata": {
    "execution": {
     "iopub.execute_input": "2023-04-14T23:18:29.259381Z",
     "iopub.status.busy": "2023-04-14T23:18:29.258835Z",
     "iopub.status.idle": "2023-04-14T23:18:29.472102Z",
     "shell.execute_reply": "2023-04-14T23:18:29.471322Z"
    }
   },
   "outputs": [],
   "source": [
    "epta_1=np.loadtxt(epta_dir+'chain_1.txt',usecols=(lf-2,lf-1,-3))"
   ]
  },
  {
   "cell_type": "code",
   "execution_count": 8,
   "id": "d2b0cea1",
   "metadata": {
    "execution": {
     "iopub.execute_input": "2023-04-14T23:18:29.476707Z",
     "iopub.status.busy": "2023-04-14T23:18:29.476328Z",
     "iopub.status.idle": "2023-04-14T23:18:29.482724Z",
     "shell.execute_reply": "2023-04-14T23:18:29.481906Z"
    }
   },
   "outputs": [],
   "source": [
    "einpta=einpta_1.T[0:2];epta=epta_1.T[0:2]"
   ]
  },
  {
   "cell_type": "code",
   "execution_count": 9,
   "id": "fac0b4d3-b151-42bb-83d5-8ffcbcc9a794",
   "metadata": {
    "execution": {
     "iopub.execute_input": "2023-04-14T23:18:29.489818Z",
     "iopub.status.busy": "2023-04-14T23:18:29.489582Z",
     "iopub.status.idle": "2023-04-14T23:18:29.495984Z",
     "shell.execute_reply": "2023-04-14T23:18:29.495402Z"
    }
   },
   "outputs": [
    {
     "data": {
      "text/plain": [
       "(2, 29990)"
      ]
     },
     "execution_count": 9,
     "metadata": {},
     "output_type": "execute_result"
    }
   ],
   "source": [
    "einpta.shape"
   ]
  },
  {
   "cell_type": "code",
   "execution_count": 10,
   "id": "dfa86b50",
   "metadata": {
    "execution": {
     "iopub.execute_input": "2023-04-14T23:18:29.499119Z",
     "iopub.status.busy": "2023-04-14T23:18:29.498851Z",
     "iopub.status.idle": "2023-04-14T23:18:29.503536Z",
     "shell.execute_reply": "2023-04-14T23:18:29.502933Z"
    }
   },
   "outputs": [],
   "source": [
    "names_red = ['gamma_R','logA_R']\n",
    "labels_red=['\\gamma_{R}','\\log A_{R}']\n",
    "del_names=['delta_gamma_R','delta_logA_R']"
   ]
  },
  {
   "cell_type": "code",
   "execution_count": 11,
   "id": "736a987e",
   "metadata": {
    "execution": {
     "iopub.execute_input": "2023-04-14T23:18:29.506641Z",
     "iopub.status.busy": "2023-04-14T23:18:29.506368Z",
     "iopub.status.idle": "2023-04-14T23:18:29.536353Z",
     "shell.execute_reply": "2023-04-14T23:18:29.535704Z"
    }
   },
   "outputs": [],
   "source": [
    "einpta_red=MCSamples(samples=np.array(einpta).transpose(),loglikes=einpta_1.T[-1],names=names_red,labels=labels_red,label='DR2full+')\n",
    "epta_red=MCSamples(samples=np.array(epta).transpose(),loglikes=epta_1.T[-1],names = names_red,labels=labels_red,label='DR2full')\n"
   ]
  },
  {
   "cell_type": "code",
   "execution_count": 12,
   "id": "5c6fbf62-4ef6-491f-9e33-7df5d14efaf4",
   "metadata": {
    "execution": {
     "iopub.execute_input": "2023-04-14T23:18:29.539506Z",
     "iopub.status.busy": "2023-04-14T23:18:29.539088Z",
     "iopub.status.idle": "2023-04-14T23:18:29.543133Z",
     "shell.execute_reply": "2023-04-14T23:18:29.542477Z"
    }
   },
   "outputs": [],
   "source": [
    "if not os.path.exists('./Figures'):\n",
    "        os.mkdir('./Figures')"
   ]
  },
  {
   "cell_type": "code",
   "execution_count": 13,
   "id": "13f6fc13",
   "metadata": {
    "execution": {
     "iopub.execute_input": "2023-04-14T23:18:29.546173Z",
     "iopub.status.busy": "2023-04-14T23:18:29.545800Z",
     "iopub.status.idle": "2023-04-14T23:18:32.202397Z",
     "shell.execute_reply": "2023-04-14T23:18:32.201603Z"
    }
   },
   "outputs": [
    {
     "data": {
      "image/png": "[encoded data removed]",
      "text/plain": [
       "<Figure size 400x400 with 3 Axes>"
      ]
     },
     "metadata": {},
     "output_type": "display_data"
    }
   ],
   "source": [
    "%matplotlib inline\n",
    "g = plots.get_subplot_plotter()\n",
    "g.triangle_plot([einpta_red,epta_red], filled=True)\n",
    "plt.savefig('./Figures/'+term+'.png',dpi=300)\n",
    "plt.show()"
   ]
  },
  {
   "cell_type": "code",
   "execution_count": 14,
   "id": "b3dc7038",
   "metadata": {
    "execution": {
     "iopub.execute_input": "2023-04-14T23:18:32.205434Z",
     "iopub.status.busy": "2023-04-14T23:18:32.205105Z",
     "iopub.status.idle": "2023-04-14T23:18:32.207811Z",
     "shell.execute_reply": "2023-04-14T23:18:32.207302Z"
    }
   },
   "outputs": [],
   "source": [
    "# %matplotlib inline\n",
    "# diff_chain_red, nsig_red,sigl_red,sigu_red=Diff_chain_shift(trim_red,full_red)\n",
    "\n",
    "# g = plots.get_subplot_plotter()\n",
    "# #nsig=utilities.from_confidence_to_sigma(shift_probability)\n",
    "# #getdist.plots.GetDistPlotSettings()\n",
    "# g.triangle_plot(diff_chain_red, filled=True,legend_labels = ['$\\Delta_T=$'+\n",
    "#                         str(\"{:.5f}\".format(nsig_red))],markers=[0,0,0,0])\n",
    "\n",
    "# plt.savefig('diff_trimvsfull_'+term+'.png',dpi=300)"
   ]
  },
  {
   "cell_type": "code",
   "execution_count": 15,
   "id": "7de42a42",
   "metadata": {
    "execution": {
     "iopub.execute_input": "2023-04-14T23:18:32.211271Z",
     "iopub.status.busy": "2023-04-14T23:18:32.210603Z",
     "iopub.status.idle": "2023-04-14T23:18:32.216767Z",
     "shell.execute_reply": "2023-04-14T23:18:32.216240Z"
    }
   },
   "outputs": [],
   "source": [
    "def plot_diff_chain(A1,A2,lims=None):\n",
    "    diff_chain, nsig, shift_lower, shift_upper=Diff_chain_shift(A1,A2)\n",
    "    \n",
    "    shift_probability=utilities.from_sigma_to_confidence(nsig)\n",
    "    g = plots.get_single_plotter()\n",
    "    diff_chain.updateSettings({'contours': [shift_probability,0.68, 0.95]})\n",
    "    g.settings.num_plot_contours = 3\n",
    "    g.plot_2d(diff_chain,param1=del_names[0], param2=del_names[1], solid_colors='r',filled=True,lims=lims)\n",
    "    g.add_legend([ A1.getLabel()+' vs '+A2.getLabel()+ \n",
    "                  '\\n\\n $\\Delta=$'+str(\"{:.3f}\".format(nsig))+'$\\sigma$'], colored_text=True);\n",
    "    g.add_x_marker(0)\n",
    "    g.add_y_marker(0)\n",
    "    plt.savefig('./Figures/'+'diff_'+term+A1.getLabel()+'_'+A2.getLabel()+'.png',dpi=300)\n",
    "    \n",
    "    return diff_chain,shift_probability\n",
    "    "
   ]
  },
  {
   "cell_type": "code",
   "execution_count": 16,
   "id": "c00a7792",
   "metadata": {
    "execution": {
     "iopub.execute_input": "2023-04-14T23:18:32.219615Z",
     "iopub.status.busy": "2023-04-14T23:18:32.219294Z",
     "iopub.status.idle": "2023-04-14T23:18:35.748966Z",
     "shell.execute_reply": "2023-04-14T23:18:35.747917Z"
    }
   },
   "outputs": [
    {
     "data": {
      "text/plain": [
       "(<getdist.mcsamples.MCSamples at 0x7f189bc22e50>, 0.02980993664554852)"
      ]
     },
     "execution_count": 16,
     "metadata": {},
     "output_type": "execute_result"
    },
    {
     "data": {
      "image/png": "[encoded data removed]",
      "text/plain": [
       "<Figure size 600x450 with 1 Axes>"
      ]
     },
     "metadata": {},
     "output_type": "display_data"
    }
   ],
   "source": [
    "plot_diff_chain(einpta_red,epta_red,lims=[-2.1,2,-1,1])"
   ]
  },
  {
   "cell_type": "code",
   "execution_count": null,
   "id": "4f477cd2",
   "metadata": {},
   "outputs": [],
   "source": []
  }
 ],
 "metadata": {
  "kernelspec": {
   "display_name": "Python 3 (ipykernel)",
   "language": "python",
   "name": "python3"
  },
  "language_info": {
   "codemirror_mode": {
    "name": "ipython",
    "version": 3
   },
   "file_extension": ".py",
   "mimetype": "text/x-python",
   "name": "python",
   "nbconvert_exporter": "python",
   "pygments_lexer": "ipython3",
   "version": "3.9.16"
  }
 },
 "nbformat": 4,
 "nbformat_minor": 5
}
