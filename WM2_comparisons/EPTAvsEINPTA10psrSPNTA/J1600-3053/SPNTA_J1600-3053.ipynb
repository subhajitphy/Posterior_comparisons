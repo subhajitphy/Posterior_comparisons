{
 "cells": [
  {
   "cell_type": "code",
   "execution_count": 1,
   "id": "b96f9281",
   "metadata": {
    "execution": {
     "iopub.execute_input": "2023-04-15T21:10:55.434101Z",
     "iopub.status.busy": "2023-04-15T21:10:55.433260Z",
     "iopub.status.idle": "2023-04-15T21:10:55.443123Z",
     "shell.execute_reply": "2023-04-15T21:10:55.442461Z"
    }
   },
   "outputs": [],
   "source": [
    "psrname='J1600-3053'"
   ]
  },
  {
   "cell_type": "code",
   "execution_count": 2,
   "id": "b342d6cb-6dfc-42c1-be58-7d3d568d21df",
   "metadata": {
    "execution": {
     "iopub.execute_input": "2023-04-15T21:10:55.447255Z",
     "iopub.status.busy": "2023-04-15T21:10:55.446752Z",
     "iopub.status.idle": "2023-04-15T21:10:55.450121Z",
     "shell.execute_reply": "2023-04-15T21:10:55.449567Z"
    }
   },
   "outputs": [],
   "source": [
    "epta_dir='/media/root1/3PAR/sdandapat/posteriors/EPTA-ONLY/SPNTA/'+psrname+'/results/'\n",
    "einpta_dir='/media/root1/3PAR/sdandapat/posteriors/EPTA+INPTA/SPNTA/'+psrname+'/results/'"
   ]
  },
  {
   "cell_type": "code",
   "execution_count": 3,
   "id": "f7f8f814",
   "metadata": {
    "execution": {
     "iopub.execute_input": "2023-04-15T21:10:55.453576Z",
     "iopub.status.busy": "2023-04-15T21:10:55.453255Z",
     "iopub.status.idle": "2023-04-15T21:10:59.298924Z",
     "shell.execute_reply": "2023-04-15T21:10:59.298162Z"
    }
   },
   "outputs": [
    {
     "name": "stderr",
     "output_type": "stream",
     "text": [
      "2023-04-16 02:40:57.077278: I tensorflow/tsl/cuda/cudart_stub.cc:28] Could not find cuda drivers on your machine, GPU will not be used.\n",
      "2023-04-16 02:40:57.130690: I tensorflow/tsl/cuda/cudart_stub.cc:28] Could not find cuda drivers on your machine, GPU will not be used.\n",
      "2023-04-16 02:40:57.132083: I tensorflow/core/platform/cpu_feature_guard.cc:182] This TensorFlow binary is optimized to use available CPU instructions in performance-critical operations.\n",
      "To enable the following instructions: AVX2 AVX512F FMA, in other operations, rebuild TensorFlow with the appropriate compiler flags.\n",
      "2023-04-16 02:40:58.044686: W tensorflow/compiler/tf2tensorrt/utils/py_utils.cc:38] TF-TRT Warning: Could not find TensorRT\n"
     ]
    }
   ],
   "source": [
    "%matplotlib inline\n",
    "import sys, os\n",
    "sys.path.insert(0,os.path.realpath(os.path.join(os.getcwd(),'../..')))\n",
    "from getdist import plots, MCSamples\n",
    "from getdist.gaussian_mixtures import GaussianND\n",
    "import getdist\n",
    "getdist.chains.print_load_details = False\n",
    "import scipy\n",
    "import matplotlib.pyplot as plt\n",
    "import IPython\n",
    "from IPython.display import Markdown\n",
    "import numpy as np\n",
    "import seaborn as sns\n",
    "# import the tensiometer tools that we need:\n",
    "import tensiometer\n",
    "from tensiometer import utilities\n",
    "from tensiometer import gaussian_tension\n",
    "from tensiometer import mcmc_tension\n",
    "import pandas as pd\n",
    "sys.path.append('/media/root1/3PAR/sdandapat/work_dir/')\n",
    "from diff_chain import  Diff_chain_shift"
   ]
  },
  {
   "cell_type": "code",
   "execution_count": 4,
   "id": "64acc453-c529-4e6c-92d5-24ab92f9fc9d",
   "metadata": {
    "execution": {
     "iopub.execute_input": "2023-04-15T21:10:59.302811Z",
     "iopub.status.busy": "2023-04-15T21:10:59.302289Z",
     "iopub.status.idle": "2023-04-15T21:10:59.310244Z",
     "shell.execute_reply": "2023-04-15T21:10:59.309462Z"
    }
   },
   "outputs": [],
   "source": [
    "par_epta_spnta=pd.read_csv(epta_dir+'TNfinal-'+psrname+'-.paramnames', header = None)\n",
    "lep=len(par_epta_spnta)\n",
    "#par_epta_spnta"
   ]
  },
  {
   "cell_type": "code",
   "execution_count": 5,
   "id": "fd275dc6-d23a-4d45-9030-25cbbc7399e8",
   "metadata": {
    "execution": {
     "iopub.execute_input": "2023-04-15T21:10:59.313022Z",
     "iopub.status.busy": "2023-04-15T21:10:59.312731Z",
     "iopub.status.idle": "2023-04-15T21:10:59.597757Z",
     "shell.execute_reply": "2023-04-15T21:10:59.597026Z"
    }
   },
   "outputs": [],
   "source": [
    "epta_spnta_1=np.loadtxt(epta_dir+'TNfinal-'+psrname+'-post_equal_weights.dat',usecols=(lep-4,lep-3,-1))"
   ]
  },
  {
   "cell_type": "code",
   "execution_count": 6,
   "id": "954ca30e-882f-4311-883a-5fa1df4960f5",
   "metadata": {
    "execution": {
     "iopub.execute_input": "2023-04-15T21:10:59.600880Z",
     "iopub.status.busy": "2023-04-15T21:10:59.600574Z",
     "iopub.status.idle": "2023-04-15T21:10:59.606328Z",
     "shell.execute_reply": "2023-04-15T21:10:59.605770Z"
    }
   },
   "outputs": [],
   "source": [
    "par_einpta_spnta=pd.read_csv(einpta_dir+'TNfinal-'+psrname+'-.paramnames', header = None)\n",
    "leinp=len(par_einpta_spnta)\n",
    "#par_einpta_spnta"
   ]
  },
  {
   "cell_type": "code",
   "execution_count": 7,
   "id": "ed569072-efa1-4106-9e05-bc05c3bdbed7",
   "metadata": {
    "execution": {
     "iopub.execute_input": "2023-04-15T21:10:59.608998Z",
     "iopub.status.busy": "2023-04-15T21:10:59.608639Z",
     "iopub.status.idle": "2023-04-15T21:11:00.048921Z",
     "shell.execute_reply": "2023-04-15T21:11:00.048102Z"
    }
   },
   "outputs": [],
   "source": [
    "einpta_spnta_1=np.loadtxt(einpta_dir+'TNfinal-'+psrname+'-post_equal_weights.dat',usecols=(leinp-2,leinp-1,-1))"
   ]
  },
  {
   "cell_type": "code",
   "execution_count": 8,
   "id": "3620ef58-8e36-4433-9f53-2610440b39eb",
   "metadata": {
    "execution": {
     "iopub.execute_input": "2023-04-15T21:11:00.053464Z",
     "iopub.status.busy": "2023-04-15T21:11:00.053078Z",
     "iopub.status.idle": "2023-04-15T21:11:00.057166Z",
     "shell.execute_reply": "2023-04-15T21:11:00.056465Z"
    }
   },
   "outputs": [],
   "source": [
    "epta_spnta_arr_dm=epta_spnta_1.T[0:2];einpta_spnta_arr_dm=einpta_spnta_1.T[0:2]"
   ]
  },
  {
   "cell_type": "code",
   "execution_count": 9,
   "id": "43f76dc8-ee58-4d93-bf62-13399dd4e61b",
   "metadata": {
    "execution": {
     "iopub.execute_input": "2023-04-15T21:11:00.060743Z",
     "iopub.status.busy": "2023-04-15T21:11:00.060422Z",
     "iopub.status.idle": "2023-04-15T21:11:00.064214Z",
     "shell.execute_reply": "2023-04-15T21:11:00.063519Z"
    }
   },
   "outputs": [],
   "source": [
    "loglike_spnta_epta=epta_spnta_1.T[-1];loglike_spnta_einpta=einpta_spnta_1.T[-1]"
   ]
  },
  {
   "cell_type": "markdown",
   "id": "21afc3b7-e184-4e28-9ab5-32f205bc6b4c",
   "metadata": {},
   "source": [
    "# Tension considering dm noise only"
   ]
  },
  {
   "cell_type": "code",
   "execution_count": 10,
   "id": "731499ae",
   "metadata": {
    "execution": {
     "iopub.execute_input": "2023-04-15T21:11:00.067521Z",
     "iopub.status.busy": "2023-04-15T21:11:00.067188Z",
     "iopub.status.idle": "2023-04-15T21:11:00.070861Z",
     "shell.execute_reply": "2023-04-15T21:11:00.070183Z"
    }
   },
   "outputs": [],
   "source": [
    "names_dm = ['dm_logA','dm_gamma']\n",
    "labels_dm=['\\log A_{DM}','\\gamma_{DM}']"
   ]
  },
  {
   "cell_type": "code",
   "execution_count": 11,
   "id": "a5ccfb13-4bfb-4334-8e01-f61c183ed24a",
   "metadata": {
    "execution": {
     "iopub.execute_input": "2023-04-15T21:11:00.074111Z",
     "iopub.status.busy": "2023-04-15T21:11:00.073782Z",
     "iopub.status.idle": "2023-04-15T21:11:00.253846Z",
     "shell.execute_reply": "2023-04-15T21:11:00.252650Z"
    }
   },
   "outputs": [],
   "source": [
    "epta_dm=MCSamples(samples=np.array(epta_spnta_arr_dm).transpose(),loglikes=loglike_spnta_epta,names=names_dm,labels=labels_dm,label='EPTA')\n",
    "einpta_dm=MCSamples(samples=np.array(einpta_spnta_arr_dm).transpose(),loglikes=loglike_spnta_einpta,names = names_dm,labels=labels_dm,label='EPTA+INPTA \\n'+psrname)"
   ]
  },
  {
   "cell_type": "code",
   "execution_count": 12,
   "id": "c01baf18-c1b0-4f51-9bec-1f6b07fe7dac",
   "metadata": {
    "execution": {
     "iopub.execute_input": "2023-04-15T21:11:00.258861Z",
     "iopub.status.busy": "2023-04-15T21:11:00.257488Z",
     "iopub.status.idle": "2023-04-15T21:11:04.403707Z",
     "shell.execute_reply": "2023-04-15T21:11:04.402516Z"
    }
   },
   "outputs": [
    {
     "data": {
      "image/png": "[encoded data removed]",
      "text/plain": [
       "<Figure size 400x400 with 3 Axes>"
      ]
     },
     "metadata": {},
     "output_type": "display_data"
    }
   ],
   "source": [
    "%matplotlib inline\n",
    "g = plots.get_subplot_plotter()\n",
    "g.triangle_plot([epta_dm,einpta_dm], filled=True)\n",
    "plt.savefig(psrname+'_EPTAvsEINPTA_SPNTA_DM.png',dpi=300)\n",
    "plt.show()"
   ]
  },
  {
   "cell_type": "code",
   "execution_count": 13,
   "id": "f7211edc-091c-43a8-8f70-9265dd86315d",
   "metadata": {
    "execution": {
     "iopub.execute_input": "2023-04-15T21:11:04.408295Z",
     "iopub.status.busy": "2023-04-15T21:11:04.407853Z",
     "iopub.status.idle": "2023-04-15T21:11:09.498175Z",
     "shell.execute_reply": "2023-04-15T21:11:09.497437Z"
    }
   },
   "outputs": [
    {
     "name": "stderr",
     "output_type": "stream",
     "text": [
      "/media/root1/3PAR/sdandapat/WORK/work_dir2/diff_chain.py:30: UserWarning: Tension is higher than 4 sigma!! chi squared estimators will be used to compute the tension.\n",
      "  warnings.warn('Tension is higher than 4 sigma!! chi squared estimators will be used to compute the tension.')\n"
     ]
    },
    {
     "data": {
      "image/png": "[encoded data removed]",
      "text/plain": [
       "<Figure size 400x400 with 3 Axes>"
      ]
     },
     "metadata": {},
     "output_type": "display_data"
    }
   ],
   "source": [
    "%matplotlib inline\n",
    "diff_chain_dm, nsig_dm,sigl_dm,sigu_dm=Diff_chain_shift(epta_dm,einpta_dm)\n",
    "\n",
    "g = plots.get_subplot_plotter()\n",
    "#nsig=utilities.from_confidence_to_sigma(shift_probability)\n",
    "#getdist.plots.GetDistPlotSettings()\n",
    "g.triangle_plot(diff_chain_dm, filled=True,legend_labels = [psrname+'\\n\\n$\\Delta_T=$'+str(\"{:.5f}\".format(nsig_dm))+'$\\sigma$'],markers=[0,0,0,0])\n",
    "\n",
    "plt.savefig(psrname+'diff_EPTAvsEINPTA_SPNTA_dm.png',dpi=300)"
   ]
  },
  {
   "cell_type": "code",
   "execution_count": null,
   "id": "045427b8",
   "metadata": {},
   "outputs": [],
   "source": []
  },
  {
   "cell_type": "code",
   "execution_count": null,
   "id": "645ef026",
   "metadata": {},
   "outputs": [],
   "source": []
  }
 ],
 "metadata": {
  "kernelspec": {
   "display_name": "Python 3 (ipykernel)",
   "language": "python",
   "name": "python3"
  },
  "language_info": {
   "codemirror_mode": {
    "name": "ipython",
    "version": 3
   },
   "file_extension": ".py",
   "mimetype": "text/x-python",
   "name": "python",
   "nbconvert_exporter": "python",
   "pygments_lexer": "ipython3",
   "version": "3.9.16"
  }
 },
 "nbformat": 4,
 "nbformat_minor": 5
}
