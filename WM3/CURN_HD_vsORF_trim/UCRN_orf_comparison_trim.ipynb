{
 "cells": [
  {
   "cell_type": "code",
   "execution_count": 1,
   "id": "a7cd4d1e",
   "metadata": {},
   "outputs": [],
   "source": [
    "trimucrn__dir='/home/subhajit/Desktop/EPTA_comparison/Data/trim/chains_ep_chen/crn_pl/'\n",
    "trim_orfb_dir='/home/subhajit/Desktop/EPTA_comparison/Data/trim/chains_ep_chen/bin_orf/'"
   ]
  },
  {
   "cell_type": "code",
   "execution_count": 2,
   "id": "66b2ee94",
   "metadata": {},
   "outputs": [
    {
     "name": "stderr",
     "output_type": "stream",
     "text": [
      "2023-04-02 04:53:57.976178: I tensorflow/tsl/cuda/cudart_stub.cc:28] Could not find cuda drivers on your machine, GPU will not be used.\n",
      "2023-04-02 04:53:58.001984: I tensorflow/tsl/cuda/cudart_stub.cc:28] Could not find cuda drivers on your machine, GPU will not be used.\n",
      "2023-04-02 04:53:58.002464: I tensorflow/core/platform/cpu_feature_guard.cc:182] This TensorFlow binary is optimized to use available CPU instructions in performance-critical operations.\n",
      "To enable the following instructions: AVX2 FMA, in other operations, rebuild TensorFlow with the appropriate compiler flags.\n",
      "2023-04-02 04:53:58.458013: W tensorflow/compiler/tf2tensorrt/utils/py_utils.cc:38] TF-TRT Warning: Could not find TensorRT\n"
     ]
    }
   ],
   "source": [
    "%matplotlib inline\n",
    "import sys, os\n",
    "sys.path.insert(0,os.path.realpath(os.path.join(os.getcwd(),'../..')))\n",
    "from getdist import plots, MCSamples\n",
    "from getdist.gaussian_mixtures import GaussianND\n",
    "import getdist\n",
    "getdist.chains.print_load_details = False\n",
    "import scipy\n",
    "import matplotlib.pyplot as plt\n",
    "import IPython\n",
    "from IPython.display import Markdown\n",
    "import numpy as np\n",
    "import seaborn as sns\n",
    "# import the tensiometer tools that we need:\n",
    "import tensiometer\n",
    "from tensiometer import utilities\n",
    "from tensiometer import gaussian_tension\n",
    "from tensiometer import mcmc_tension\n",
    "import pandas as pd\n",
    "sys.path.append('/home/subhajit/Desktop/EPTA_comparison/notebooks')\n",
    "from diff_chain import  Diff_chain_shift"
   ]
  },
  {
   "cell_type": "code",
   "execution_count": 3,
   "id": "71ed150c",
   "metadata": {},
   "outputs": [
    {
     "data": {
      "text/html": [
       "<div>\n",
       "<style scoped>\n",
       "    .dataframe tbody tr th:only-of-type {\n",
       "        vertical-align: middle;\n",
       "    }\n",
       "\n",
       "    .dataframe tbody tr th {\n",
       "        vertical-align: top;\n",
       "    }\n",
       "\n",
       "    .dataframe thead th {\n",
       "        text-align: right;\n",
       "    }\n",
       "</style>\n",
       "<table border=\"1\" class=\"dataframe\">\n",
       "  <thead>\n",
       "    <tr style=\"text-align: right;\">\n",
       "      <th></th>\n",
       "      <th>0</th>\n",
       "    </tr>\n",
       "  </thead>\n",
       "  <tbody>\n",
       "    <tr>\n",
       "      <th>0</th>\n",
       "      <td>J0030+0451_red_noise_gamma</td>\n",
       "    </tr>\n",
       "    <tr>\n",
       "      <th>1</th>\n",
       "      <td>J0030+0451_red_noise_log10_A</td>\n",
       "    </tr>\n",
       "    <tr>\n",
       "      <th>2</th>\n",
       "      <td>J0613-0200_dm_gp_gamma</td>\n",
       "    </tr>\n",
       "    <tr>\n",
       "      <th>3</th>\n",
       "      <td>J0613-0200_dm_gp_log10_A</td>\n",
       "    </tr>\n",
       "    <tr>\n",
       "      <th>4</th>\n",
       "      <td>J0751+1807_dm_gp_gamma</td>\n",
       "    </tr>\n",
       "    <tr>\n",
       "      <th>...</th>\n",
       "      <td>...</td>\n",
       "    </tr>\n",
       "    <tr>\n",
       "      <th>69</th>\n",
       "      <td>gw_orf_bin_2</td>\n",
       "    </tr>\n",
       "    <tr>\n",
       "      <th>70</th>\n",
       "      <td>gw_orf_bin_3</td>\n",
       "    </tr>\n",
       "    <tr>\n",
       "      <th>71</th>\n",
       "      <td>gw_orf_bin_4</td>\n",
       "    </tr>\n",
       "    <tr>\n",
       "      <th>72</th>\n",
       "      <td>gw_orf_bin_5</td>\n",
       "    </tr>\n",
       "    <tr>\n",
       "      <th>73</th>\n",
       "      <td>gw_orf_bin_6</td>\n",
       "    </tr>\n",
       "  </tbody>\n",
       "</table>\n",
       "<p>74 rows × 1 columns</p>\n",
       "</div>"
      ],
      "text/plain": [
       "                               0\n",
       "0     J0030+0451_red_noise_gamma\n",
       "1   J0030+0451_red_noise_log10_A\n",
       "2         J0613-0200_dm_gp_gamma\n",
       "3       J0613-0200_dm_gp_log10_A\n",
       "4         J0751+1807_dm_gp_gamma\n",
       "..                           ...\n",
       "69                  gw_orf_bin_2\n",
       "70                  gw_orf_bin_3\n",
       "71                  gw_orf_bin_4\n",
       "72                  gw_orf_bin_5\n",
       "73                  gw_orf_bin_6\n",
       "\n",
       "[74 rows x 1 columns]"
      ]
     },
     "execution_count": 3,
     "metadata": {},
     "output_type": "execute_result"
    }
   ],
   "source": [
    "par_orfb=pd.read_csv(trim_orfb_dir+'pars.txt', header = None)\n",
    "lt=len(par_orfb)\n",
    "par_orfb"
   ]
  },
  {
   "cell_type": "code",
   "execution_count": 4,
   "id": "d2b4d17c",
   "metadata": {},
   "outputs": [],
   "source": [
    "orfb_1=np.loadtxt(trim_orfb_dir+'chain_1.txt',usecols=(lt-8,lt-9,-4))"
   ]
  },
  {
   "cell_type": "code",
   "execution_count": 5,
   "id": "2b1ab052",
   "metadata": {},
   "outputs": [
    {
     "data": {
      "text/html": [
       "<div>\n",
       "<style scoped>\n",
       "    .dataframe tbody tr th:only-of-type {\n",
       "        vertical-align: middle;\n",
       "    }\n",
       "\n",
       "    .dataframe tbody tr th {\n",
       "        vertical-align: top;\n",
       "    }\n",
       "\n",
       "    .dataframe thead th {\n",
       "        text-align: right;\n",
       "    }\n",
       "</style>\n",
       "<table border=\"1\" class=\"dataframe\">\n",
       "  <thead>\n",
       "    <tr style=\"text-align: right;\">\n",
       "      <th></th>\n",
       "      <th>0</th>\n",
       "    </tr>\n",
       "  </thead>\n",
       "  <tbody>\n",
       "    <tr>\n",
       "      <th>0</th>\n",
       "      <td>J0030+0451_red_noise_gamma</td>\n",
       "    </tr>\n",
       "    <tr>\n",
       "      <th>1</th>\n",
       "      <td>J0030+0451_red_noise_log10_A</td>\n",
       "    </tr>\n",
       "    <tr>\n",
       "      <th>2</th>\n",
       "      <td>J0613-0200_dm_gp_gamma</td>\n",
       "    </tr>\n",
       "    <tr>\n",
       "      <th>3</th>\n",
       "      <td>J0613-0200_dm_gp_log10_A</td>\n",
       "    </tr>\n",
       "    <tr>\n",
       "      <th>4</th>\n",
       "      <td>J0751+1807_dm_gp_gamma</td>\n",
       "    </tr>\n",
       "    <tr>\n",
       "      <th>...</th>\n",
       "      <td>...</td>\n",
       "    </tr>\n",
       "    <tr>\n",
       "      <th>62</th>\n",
       "      <td>J2124-3358_dm_gp_log10_A</td>\n",
       "    </tr>\n",
       "    <tr>\n",
       "      <th>63</th>\n",
       "      <td>J2322+2057_red_noise_gamma</td>\n",
       "    </tr>\n",
       "    <tr>\n",
       "      <th>64</th>\n",
       "      <td>J2322+2057_red_noise_log10_A</td>\n",
       "    </tr>\n",
       "    <tr>\n",
       "      <th>65</th>\n",
       "      <td>gw_crn_gamma</td>\n",
       "    </tr>\n",
       "    <tr>\n",
       "      <th>66</th>\n",
       "      <td>gw_crn_log10_A</td>\n",
       "    </tr>\n",
       "  </tbody>\n",
       "</table>\n",
       "<p>67 rows × 1 columns</p>\n",
       "</div>"
      ],
      "text/plain": [
       "                               0\n",
       "0     J0030+0451_red_noise_gamma\n",
       "1   J0030+0451_red_noise_log10_A\n",
       "2         J0613-0200_dm_gp_gamma\n",
       "3       J0613-0200_dm_gp_log10_A\n",
       "4         J0751+1807_dm_gp_gamma\n",
       "..                           ...\n",
       "62      J2124-3358_dm_gp_log10_A\n",
       "63    J2322+2057_red_noise_gamma\n",
       "64  J2322+2057_red_noise_log10_A\n",
       "65                  gw_crn_gamma\n",
       "66                gw_crn_log10_A\n",
       "\n",
       "[67 rows x 1 columns]"
      ]
     },
     "execution_count": 5,
     "metadata": {},
     "output_type": "execute_result"
    }
   ],
   "source": [
    "par_ucrn=pd.read_csv(trimucrn__dir+'pars.txt', header = None)\n",
    "lf=len(par_ucrn)\n",
    "par_ucrn"
   ]
  },
  {
   "cell_type": "code",
   "execution_count": 6,
   "id": "5196d493",
   "metadata": {},
   "outputs": [],
   "source": [
    "ucrn_1=np.loadtxt(trimucrn__dir+'chain_1.txt',usecols=(lf-1,lf-2,-4))"
   ]
  },
  {
   "cell_type": "code",
   "execution_count": 7,
   "id": "d2b0cea1",
   "metadata": {},
   "outputs": [],
   "source": [
    "orfb=orfb_1.T[0:2];ucrn=ucrn_1.T[0:2]"
   ]
  },
  {
   "cell_type": "code",
   "execution_count": 8,
   "id": "dfa86b50",
   "metadata": {},
   "outputs": [],
   "source": [
    "names_red = ['logA_R','gamma_R']\n",
    "labels_red=['\\log A_{R}','\\gamma_{R}']\n",
    "del_names=['delta_logA_R','delta_gamma_R']"
   ]
  },
  {
   "cell_type": "code",
   "execution_count": 9,
   "id": "736a987e",
   "metadata": {},
   "outputs": [],
   "source": [
    "orfb_red=MCSamples(samples=np.array(orfb).transpose(),loglikes=orfb_1.T[-1],names=names_red,labels=labels_red,label='ORF binned')\n",
    "ucrn_red=MCSamples(samples=np.array(ucrn).transpose(),loglikes=ucrn_1.T[-1],names = names_red,labels=labels_red,label='UCRN')\n"
   ]
  },
  {
   "cell_type": "code",
   "execution_count": 10,
   "id": "13f6fc13",
   "metadata": {},
   "outputs": [
    {
     "data": {
      "image/png": "[encoded data removed]",
      "text/plain": [
       "<Figure size 400x400 with 3 Axes>"
      ]
     },
     "metadata": {},
     "output_type": "display_data"
    }
   ],
   "source": [
    "%matplotlib inline\n",
    "g = plots.get_subplot_plotter()\n",
    "g.triangle_plot([orfb_red,ucrn_red], filled=True)\n",
    "plt.savefig('orfbvsucrn.png',dpi=300)\n",
    "plt.show()"
   ]
  },
  {
   "cell_type": "code",
   "execution_count": 11,
   "id": "d36efab5",
   "metadata": {},
   "outputs": [],
   "source": [
    "def plot_diff_chain(A1,A2,lims=None,off_size=None):\n",
    "    diff_chain, nsig, shift_lower, shift_upper=Diff_chain_shift(A1,A2,off_size)\n",
    "    \n",
    "    shift_probability=utilities.from_sigma_to_confidence(nsig)\n",
    "    g = plots.get_single_plotter()\n",
    "    diff_chain.updateSettings({'contours': [shift_probability,0.68, 0.95]})\n",
    "    g.settings.num_plot_contours = 3\n",
    "    g.plot_2d(diff_chain,param1=del_names[0], param2=del_names[1], solid_colors='r',filled=True,lims=lims)\n",
    "    g.add_legend([ A1.getLabel()+' & '+A2.getLabel()+ \n",
    "                  '\\n\\n $\\Delta=$'+str(\"{:.4f}\".format(nsig))+'$\\sigma$'], colored_text=True);\n",
    "    g.add_x_marker(0)\n",
    "    g.add_y_marker(0)\n",
    "    plt.savefig(A1.getLabel()+'_'+A2.getLabel()+'.png',dpi=300)\n",
    "    \n",
    "    return diff_chain,shift_probability\n",
    "    "
   ]
  },
  {
   "cell_type": "code",
   "execution_count": 12,
   "id": "09ffa5e3-62e6-4662-8b41-9867d8db476e",
   "metadata": {},
   "outputs": [
    {
     "data": {
      "text/plain": [
       "(<getdist.mcsamples.MCSamples at 0x7f3d088d6df0>, 0.02332079598804951)"
      ]
     },
     "execution_count": 12,
     "metadata": {},
     "output_type": "execute_result"
    },
    {
     "data": {
      "image/png": "[encoded data removed]",
      "text/plain": [
       "<Figure size 600x450 with 1 Axes>"
      ]
     },
     "metadata": {},
     "output_type": "display_data"
    }
   ],
   "source": [
    "plot_diff_chain(orfb_red,ucrn_red,lims=[-2,2,-3.5,3])"
   ]
  },
  {
   "cell_type": "code",
   "execution_count": null,
   "id": "c5b1ccee-efc8-4b91-ad39-a8ce64692d50",
   "metadata": {},
   "outputs": [],
   "source": []
  }
 ],
 "metadata": {
  "kernelspec": {
   "display_name": "tension",
   "language": "python",
   "name": "tension"
  },
  "language_info": {
   "codemirror_mode": {
    "name": "ipython",
    "version": 3
   },
   "file_extension": ".py",
   "mimetype": "text/x-python",
   "name": "python",
   "nbconvert_exporter": "python",
   "pygments_lexer": "ipython3",
   "version": "3.9.16"
  }
 },
 "nbformat": 4,
 "nbformat_minor": 5
}
