{
 "cells": [
  {
   "cell_type": "code",
   "execution_count": 1,
   "id": "91ad7d6f",
   "metadata": {},
   "outputs": [],
   "source": [
    "hd_ng15='/home/subhajit/Desktop/PTA_comp/PPTA_NG_EPTA/PPTA_NG_EPTA_CRN_HD/ng15_powerlaw_HD/'\n",
    "trim_epta='/home/subhajit/Desktop/EPTA_comparison/trim/epta-gwb-search-chains_new_sys_v1.3_trim/chains_ep_chen/hd_pl/'\n",
    "full_epta='/home/subhajit/Desktop/EPTA_comparison/full/epta-gwb-search-chains_v1.3/chains_ep_chen/hd_pl/'"
   ]
  },
  {
   "cell_type": "code",
   "execution_count": 2,
   "id": "d922fe3c",
   "metadata": {},
   "outputs": [
    {
     "name": "stderr",
     "output_type": "stream",
     "text": [
      "2023-04-01 23:05:12.229794: I tensorflow/tsl/cuda/cudart_stub.cc:28] Could not find cuda drivers on your machine, GPU will not be used.\n",
      "2023-04-01 23:05:12.255722: I tensorflow/tsl/cuda/cudart_stub.cc:28] Could not find cuda drivers on your machine, GPU will not be used.\n",
      "2023-04-01 23:05:12.256164: I tensorflow/core/platform/cpu_feature_guard.cc:182] This TensorFlow binary is optimized to use available CPU instructions in performance-critical operations.\n",
      "To enable the following instructions: AVX2 FMA, in other operations, rebuild TensorFlow with the appropriate compiler flags.\n",
      "2023-04-01 23:05:12.711357: W tensorflow/compiler/tf2tensorrt/utils/py_utils.cc:38] TF-TRT Warning: Could not find TensorRT\n"
     ]
    }
   ],
   "source": [
    "%matplotlib inline\n",
    "import sys, os\n",
    "sys.path.insert(0,os.path.realpath(os.path.join(os.getcwd(),'../..')))\n",
    "from getdist import plots, MCSamples\n",
    "from getdist.gaussian_mixtures import GaussianND\n",
    "import getdist\n",
    "getdist.chains.print_load_details = False\n",
    "import scipy\n",
    "import matplotlib.pyplot as plt\n",
    "import IPython\n",
    "from IPython.display import Markdown\n",
    "import numpy as np\n",
    "import seaborn as sns\n",
    "# import the tensiometer tools that we need:\n",
    "import tensiometer\n",
    "from tensiometer import utilities\n",
    "from tensiometer import gaussian_tension\n",
    "from tensiometer import mcmc_tension\n",
    "import pandas as pd\n",
    "sys.path.append('/home/subhajit/Desktop/EPTA_comparison/notebooks')\n",
    "from diff_chain import  Diff_chain_shift"
   ]
  },
  {
   "cell_type": "code",
   "execution_count": 3,
   "id": "50a1937b",
   "metadata": {},
   "outputs": [
    {
     "data": {
      "text/html": [
       "<div>\n",
       "<style scoped>\n",
       "    .dataframe tbody tr th:only-of-type {\n",
       "        vertical-align: middle;\n",
       "    }\n",
       "\n",
       "    .dataframe tbody tr th {\n",
       "        vertical-align: top;\n",
       "    }\n",
       "\n",
       "    .dataframe thead th {\n",
       "        text-align: right;\n",
       "    }\n",
       "</style>\n",
       "<table border=\"1\" class=\"dataframe\">\n",
       "  <thead>\n",
       "    <tr style=\"text-align: right;\">\n",
       "      <th></th>\n",
       "      <th>0</th>\n",
       "    </tr>\n",
       "  </thead>\n",
       "  <tbody>\n",
       "    <tr>\n",
       "      <th>0</th>\n",
       "      <td>B1855+09_red_noise_gamma</td>\n",
       "    </tr>\n",
       "    <tr>\n",
       "      <th>1</th>\n",
       "      <td>B1855+09_red_noise_log10_A</td>\n",
       "    </tr>\n",
       "    <tr>\n",
       "      <th>2</th>\n",
       "      <td>B1937+21_red_noise_gamma</td>\n",
       "    </tr>\n",
       "    <tr>\n",
       "      <th>3</th>\n",
       "      <td>B1937+21_red_noise_log10_A</td>\n",
       "    </tr>\n",
       "    <tr>\n",
       "      <th>4</th>\n",
       "      <td>B1953+29_red_noise_gamma</td>\n",
       "    </tr>\n",
       "    <tr>\n",
       "      <th>...</th>\n",
       "      <td>...</td>\n",
       "    </tr>\n",
       "    <tr>\n",
       "      <th>131</th>\n",
       "      <td>J2317+1439_red_noise_log10_A</td>\n",
       "    </tr>\n",
       "    <tr>\n",
       "      <th>132</th>\n",
       "      <td>J2322+2057_red_noise_gamma</td>\n",
       "    </tr>\n",
       "    <tr>\n",
       "      <th>133</th>\n",
       "      <td>J2322+2057_red_noise_log10_A</td>\n",
       "    </tr>\n",
       "    <tr>\n",
       "      <th>134</th>\n",
       "      <td>gw_gamma</td>\n",
       "    </tr>\n",
       "    <tr>\n",
       "      <th>135</th>\n",
       "      <td>gw_log10_A</td>\n",
       "    </tr>\n",
       "  </tbody>\n",
       "</table>\n",
       "<p>136 rows × 1 columns</p>\n",
       "</div>"
      ],
      "text/plain": [
       "                                0\n",
       "0        B1855+09_red_noise_gamma\n",
       "1      B1855+09_red_noise_log10_A\n",
       "2        B1937+21_red_noise_gamma\n",
       "3      B1937+21_red_noise_log10_A\n",
       "4        B1953+29_red_noise_gamma\n",
       "..                            ...\n",
       "131  J2317+1439_red_noise_log10_A\n",
       "132    J2322+2057_red_noise_gamma\n",
       "133  J2322+2057_red_noise_log10_A\n",
       "134                      gw_gamma\n",
       "135                    gw_log10_A\n",
       "\n",
       "[136 rows x 1 columns]"
      ]
     },
     "execution_count": 3,
     "metadata": {},
     "output_type": "execute_result"
    }
   ],
   "source": [
    "par_ng=pd.read_csv(hd_ng15+'pars.txt', header = None)\n",
    "len_ng=len(par_ng)\n",
    "par_ng"
   ]
  },
  {
   "cell_type": "code",
   "execution_count": 4,
   "id": "8a6d1d50",
   "metadata": {},
   "outputs": [
    {
     "data": {
      "text/html": [
       "<div>\n",
       "<style scoped>\n",
       "    .dataframe tbody tr th:only-of-type {\n",
       "        vertical-align: middle;\n",
       "    }\n",
       "\n",
       "    .dataframe tbody tr th {\n",
       "        vertical-align: top;\n",
       "    }\n",
       "\n",
       "    .dataframe thead th {\n",
       "        text-align: right;\n",
       "    }\n",
       "</style>\n",
       "<table border=\"1\" class=\"dataframe\">\n",
       "  <thead>\n",
       "    <tr style=\"text-align: right;\">\n",
       "      <th></th>\n",
       "      <th>0</th>\n",
       "    </tr>\n",
       "  </thead>\n",
       "  <tbody>\n",
       "    <tr>\n",
       "      <th>0</th>\n",
       "      <td>J0030+0451_red_noise_gamma</td>\n",
       "    </tr>\n",
       "    <tr>\n",
       "      <th>1</th>\n",
       "      <td>J0030+0451_red_noise_log10_A</td>\n",
       "    </tr>\n",
       "    <tr>\n",
       "      <th>2</th>\n",
       "      <td>J0613-0200_dm_gp_gamma</td>\n",
       "    </tr>\n",
       "    <tr>\n",
       "      <th>3</th>\n",
       "      <td>J0613-0200_dm_gp_log10_A</td>\n",
       "    </tr>\n",
       "    <tr>\n",
       "      <th>4</th>\n",
       "      <td>J0751+1807_dm_gp_gamma</td>\n",
       "    </tr>\n",
       "    <tr>\n",
       "      <th>...</th>\n",
       "      <td>...</td>\n",
       "    </tr>\n",
       "    <tr>\n",
       "      <th>62</th>\n",
       "      <td>J2124-3358_dm_gp_log10_A</td>\n",
       "    </tr>\n",
       "    <tr>\n",
       "      <th>63</th>\n",
       "      <td>J2322+2057_red_noise_gamma</td>\n",
       "    </tr>\n",
       "    <tr>\n",
       "      <th>64</th>\n",
       "      <td>J2322+2057_red_noise_log10_A</td>\n",
       "    </tr>\n",
       "    <tr>\n",
       "      <th>65</th>\n",
       "      <td>gw_hd_gamma</td>\n",
       "    </tr>\n",
       "    <tr>\n",
       "      <th>66</th>\n",
       "      <td>gw_hd_log10_A</td>\n",
       "    </tr>\n",
       "  </tbody>\n",
       "</table>\n",
       "<p>67 rows × 1 columns</p>\n",
       "</div>"
      ],
      "text/plain": [
       "                               0\n",
       "0     J0030+0451_red_noise_gamma\n",
       "1   J0030+0451_red_noise_log10_A\n",
       "2         J0613-0200_dm_gp_gamma\n",
       "3       J0613-0200_dm_gp_log10_A\n",
       "4         J0751+1807_dm_gp_gamma\n",
       "..                           ...\n",
       "62      J2124-3358_dm_gp_log10_A\n",
       "63    J2322+2057_red_noise_gamma\n",
       "64  J2322+2057_red_noise_log10_A\n",
       "65                   gw_hd_gamma\n",
       "66                 gw_hd_log10_A\n",
       "\n",
       "[67 rows x 1 columns]"
      ]
     },
     "execution_count": 4,
     "metadata": {},
     "output_type": "execute_result"
    }
   ],
   "source": [
    "par_trim=pd.read_csv(trim_epta+'pars.txt', header = None)\n",
    "lt=len(par_trim)\n",
    "par_trim"
   ]
  },
  {
   "cell_type": "code",
   "execution_count": 5,
   "id": "a7f3285d",
   "metadata": {},
   "outputs": [],
   "source": [
    "trim_1=np.loadtxt(trim_epta+'chain_1.txt',usecols=(lt-1,lt-2,-4))"
   ]
  },
  {
   "cell_type": "code",
   "execution_count": 6,
   "id": "c37e802c",
   "metadata": {},
   "outputs": [],
   "source": [
    "ng15_1=np.loadtxt(hd_ng15+'chain_1.0.txt',usecols=(len_ng-1,len_ng-2,-3))"
   ]
  },
  {
   "cell_type": "code",
   "execution_count": 7,
   "id": "e84df45e",
   "metadata": {},
   "outputs": [
    {
     "data": {
      "text/html": [
       "<div>\n",
       "<style scoped>\n",
       "    .dataframe tbody tr th:only-of-type {\n",
       "        vertical-align: middle;\n",
       "    }\n",
       "\n",
       "    .dataframe tbody tr th {\n",
       "        vertical-align: top;\n",
       "    }\n",
       "\n",
       "    .dataframe thead th {\n",
       "        text-align: right;\n",
       "    }\n",
       "</style>\n",
       "<table border=\"1\" class=\"dataframe\">\n",
       "  <thead>\n",
       "    <tr style=\"text-align: right;\">\n",
       "      <th></th>\n",
       "      <th>0</th>\n",
       "    </tr>\n",
       "  </thead>\n",
       "  <tbody>\n",
       "    <tr>\n",
       "      <th>0</th>\n",
       "      <td>J0030+0451_red_noise_gamma</td>\n",
       "    </tr>\n",
       "    <tr>\n",
       "      <th>1</th>\n",
       "      <td>J0030+0451_red_noise_log10_A</td>\n",
       "    </tr>\n",
       "    <tr>\n",
       "      <th>2</th>\n",
       "      <td>J0613-0200_dm_gp_gamma</td>\n",
       "    </tr>\n",
       "    <tr>\n",
       "      <th>3</th>\n",
       "      <td>J0613-0200_dm_gp_log10_A</td>\n",
       "    </tr>\n",
       "    <tr>\n",
       "      <th>4</th>\n",
       "      <td>J0613-0200_red_noise_gamma</td>\n",
       "    </tr>\n",
       "    <tr>\n",
       "      <th>...</th>\n",
       "      <td>...</td>\n",
       "    </tr>\n",
       "    <tr>\n",
       "      <th>69</th>\n",
       "      <td>J2124-3358_dm_gp_log10_A</td>\n",
       "    </tr>\n",
       "    <tr>\n",
       "      <th>70</th>\n",
       "      <td>J2322+2057_red_noise_gamma</td>\n",
       "    </tr>\n",
       "    <tr>\n",
       "      <th>71</th>\n",
       "      <td>J2322+2057_red_noise_log10_A</td>\n",
       "    </tr>\n",
       "    <tr>\n",
       "      <th>72</th>\n",
       "      <td>gw_hd_gamma</td>\n",
       "    </tr>\n",
       "    <tr>\n",
       "      <th>73</th>\n",
       "      <td>gw_hd_log10_A</td>\n",
       "    </tr>\n",
       "  </tbody>\n",
       "</table>\n",
       "<p>74 rows × 1 columns</p>\n",
       "</div>"
      ],
      "text/plain": [
       "                               0\n",
       "0     J0030+0451_red_noise_gamma\n",
       "1   J0030+0451_red_noise_log10_A\n",
       "2         J0613-0200_dm_gp_gamma\n",
       "3       J0613-0200_dm_gp_log10_A\n",
       "4     J0613-0200_red_noise_gamma\n",
       "..                           ...\n",
       "69      J2124-3358_dm_gp_log10_A\n",
       "70    J2322+2057_red_noise_gamma\n",
       "71  J2322+2057_red_noise_log10_A\n",
       "72                   gw_hd_gamma\n",
       "73                 gw_hd_log10_A\n",
       "\n",
       "[74 rows x 1 columns]"
      ]
     },
     "execution_count": 7,
     "metadata": {},
     "output_type": "execute_result"
    }
   ],
   "source": [
    "par_full=pd.read_csv(full_epta+'pars.txt', header = None)\n",
    "lf=len(par_full)\n",
    "par_full"
   ]
  },
  {
   "cell_type": "code",
   "execution_count": 8,
   "id": "143faae5",
   "metadata": {},
   "outputs": [],
   "source": [
    "full_1=np.loadtxt(full_epta+'chain_1.txt',usecols=(lf-1,lf-2,-4))"
   ]
  },
  {
   "cell_type": "code",
   "execution_count": 9,
   "id": "caf7a7aa",
   "metadata": {},
   "outputs": [],
   "source": [
    "full=full_1.T[0:2];trim=trim_1.T[0:2];ng15=ng15_1.T[0:2]"
   ]
  },
  {
   "cell_type": "code",
   "execution_count": 10,
   "id": "5067f306",
   "metadata": {},
   "outputs": [],
   "source": [
    "names_red = ['logA_R','gamma_R']\n",
    "labels_red=['\\log A_{R}','\\gamma_{R}']\n",
    "del_names=['delta_logA_R','delta_gamma_R']"
   ]
  },
  {
   "cell_type": "code",
   "execution_count": 11,
   "id": "26ec917f",
   "metadata": {},
   "outputs": [],
   "source": [
    "trim_red=MCSamples(samples=np.array(trim).transpose(),loglikes=trim_1.T[-1],names=names_red,labels=labels_red,label='EPTA TRIM')\n",
    "ng_15red=MCSamples(samples=np.array(ng15).transpose(),loglikes=ng15_1.T[-1],names = names_red,labels=labels_red,label='NG15')\n",
    "full_red=MCSamples(samples=np.array(full).transpose(),loglikes=full_1.T[-1],names = names_red,labels=labels_red,label='FULL')"
   ]
  },
  {
   "cell_type": "code",
   "execution_count": 12,
   "id": "1b1b9d4f",
   "metadata": {},
   "outputs": [
    {
     "data": {
      "image/png": "[encoded data removed]",
      "text/plain": [
       "<Figure size 400x400 with 3 Axes>"
      ]
     },
     "metadata": {},
     "output_type": "display_data"
    }
   ],
   "source": [
    "%matplotlib inline\n",
    "g = plots.get_subplot_plotter()\n",
    "g.triangle_plot([trim_red,ng_15red,full_red], filled=True)\n",
    "#plt.savefig('trimvsfull_'+term+'.png',dpi=300)\n",
    "plt.show()"
   ]
  },
  {
   "cell_type": "code",
   "execution_count": 13,
   "id": "f42fa3a3",
   "metadata": {},
   "outputs": [],
   "source": [
    "diff_chain_trimvng, nsig_trimvng,sigl_trimvng,sigu_trimvng=Diff_chain_shift(trim_red,ng_15red)"
   ]
  },
  {
   "cell_type": "code",
   "execution_count": 14,
   "id": "2b16a99b",
   "metadata": {},
   "outputs": [],
   "source": [
    "def plot_diff_chain(A1,A2,lims=None,off_size=None):\n",
    "    diff_chain, nsig, shift_lower, shift_upper=Diff_chain_shift(A1,A2,off_size)\n",
    "    shift_probability=utilities.from_sigma_to_confidence(nsig)\n",
    "    # plot the contour for a sanity check:\n",
    "    g = plots.get_single_plotter()\n",
    "    diff_chain.updateSettings({'contours': [shift_probability,0.68, 0.95]})\n",
    "    g.settings.num_plot_contours = 3\n",
    "    g.plot_2d(diff_chain,param1=del_names[0], param2=del_names[1], solid_colors='r',filled=True,lims=lims)\n",
    "    g.add_legend([ A1.getLabel()+' & '+A2.getLabel()+ \n",
    "                  '\\n\\n $\\Delta=$'+str(\"{:.2f}\".format(nsig))+'$\\sigma$'], colored_text=True);\n",
    "    g.add_x_marker(0)\n",
    "    g.add_y_marker(0)\n",
    "    #plt.savefig(A1.getLabel()+'_'+A2.getLabel()+'.png',dpi=300)\n",
    "    \n",
    "    return diff_chain,shift_probability"
   ]
  },
  {
   "cell_type": "code",
   "execution_count": 15,
   "id": "718dc7f0",
   "metadata": {},
   "outputs": [
    {
     "data": {
      "text/plain": [
       "(<getdist.mcsamples.MCSamples at 0x7f90e1730220>, 0.5399785390012382)"
      ]
     },
     "execution_count": 15,
     "metadata": {},
     "output_type": "execute_result"
    },
    {
     "data": {
      "image/png": "[encoded data removed]",
      "text/plain": [
       "<Figure size 600x450 with 1 Axes>"
      ]
     },
     "metadata": {},
     "output_type": "display_data"
    }
   ],
   "source": [
    "plot_diff_chain(trim_red,ng_15red)"
   ]
  },
  {
   "cell_type": "code",
   "execution_count": 16,
   "id": "f22a98a2",
   "metadata": {},
   "outputs": [
    {
     "data": {
      "text/plain": [
       "(<getdist.mcsamples.MCSamples at 0x7f90dc97f250>, 0.7653933140734627)"
      ]
     },
     "execution_count": 16,
     "metadata": {},
     "output_type": "execute_result"
    },
    {
     "data": {
      "image/png": "[encoded data removed]",
      "text/plain": [
       "<Figure size 600x450 with 1 Axes>"
      ]
     },
     "metadata": {},
     "output_type": "display_data"
    }
   ],
   "source": [
    "plot_diff_chain(full_red,ng_15red)"
   ]
  }
 ],
 "metadata": {
  "kernelspec": {
   "display_name": "tension",
   "language": "python",
   "name": "tension"
  },
  "language_info": {
   "codemirror_mode": {
    "name": "ipython",
    "version": 3
   },
   "file_extension": ".py",
   "mimetype": "text/x-python",
   "name": "python",
   "nbconvert_exporter": "python",
   "pygments_lexer": "ipython3",
   "version": "3.9.16"
  }
 },
 "nbformat": 4,
 "nbformat_minor": 5
}
